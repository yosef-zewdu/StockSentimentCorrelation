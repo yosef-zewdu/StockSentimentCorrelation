{
  "cells": [
    {
      "cell_type": "markdown",
      "metadata": {
        "id": "ocSkQj8XmpZX"
      },
      "source": [
        "# Exploartory Data Analysis"
      ]
    },
    {
      "cell_type": "code",
      "execution_count": 2,
      "metadata": {
        "editable": true,
        "id": "0zf-AoS6mpZa",
        "tags": []
      },
      "outputs": [],
      "source": [
        "import pandas as pd\n",
        "import numpy as np\n",
        "import matplotlib.pyplot as plt\n",
        "import seaborn as sns\n",
        "from collections import Counter\n",
        "from textblob import TextBlob\n",
        "import nltk\n",
        "from nltk.sentiment.vader import SentimentIntensityAnalyzer\n",
        "from sklearn.feature_extraction.text import CountVectorizer\n",
        "from sklearn.decomposition import LatentDirichletAllocation\n",
        "import os, sys\n",
        "import zipfile\n",
        "\n",
        "from nltk.corpus import stopwords\n",
        "from nltk.tokenize import word_tokenize\n",
        "from nltk.probability import FreqDist"
      ]
    },
    {
      "cell_type": "code",
      "execution_count": 2,
      "metadata": {
        "colab": {
          "base_uri": "https://localhost:8080/"
        },
        "id": "bW3xKTZfmwTg",
        "outputId": "7632480b-7e58-49ee-9ef6-4ba1c12d2c05"
      },
      "outputs": [
        {
          "name": "stdout",
          "output_type": "stream",
          "text": [
            "Mounted at /content/gdrive\n"
          ]
        }
      ],
      "source": [
        "from google.colab import drive\n",
        "drive.mount('/content/gdrive')"
      ]
    },
    {
      "cell_type": "code",
      "execution_count": 3,
      "metadata": {
        "colab": {
          "base_uri": "https://localhost:8080/"
        },
        "id": "f4aV9sZlm9cF",
        "outputId": "fe82089d-4b2b-417b-9d34-5bedfc993306"
      },
      "outputs": [
        {
          "name": "stdout",
          "output_type": "stream",
          "text": [
            "dict_keys(['raw_analyst_ratings'])\n"
          ]
        }
      ],
      "source": [
        "# Path to the zip file in Google Drive\n",
        "zip_path = '/content/gdrive/MyDrive/raw_analyst_ratings.csv.zip'\n",
        "\n",
        "# Extract the zip file\n",
        "with zipfile.ZipFile(zip_path, 'r') as zip_ref:\n",
        "    # Get a list of all the files in the zip archive\n",
        "    file_list = zip_ref.namelist()\n",
        "\n",
        "    # Loop through the files and read each CSV file into a DataFrame\n",
        "    dfs = {}\n",
        "    for file in file_list:\n",
        "        if file.endswith('.csv'):\n",
        "            zip_ref.extract(file)\n",
        "            # Use the string '%Y-%m-%d %H:%M' directly for the date_format\n",
        "            df = pd.read_csv(file)\n",
        "            dfs[file.split('.')[0]] = df\n",
        "\n",
        "\n",
        "# Access the DataFrames\n",
        "print(dfs.keys())  # Print the names of the DataFrames\n",
        "\n",
        "# save csv\n",
        "for filename, df in dfs.items():\n",
        "  df.to_csv(f'{filename}.csv', index=False)\n"
      ]
    },
    {
      "cell_type": "code",
      "execution_count": 3,
      "metadata": {
        "id": "b9YhQixHmpZb"
      },
      "outputs": [],
      "source": [
        "# Load data\n",
        "news = pd.read_csv('../data/raw/raw_analyst_ratings.csv')\n",
        "#news = pd.read_csv('/content/raw_analyst_ratings.csv')"
      ]
    },
    {
      "cell_type": "markdown",
      "metadata": {
        "id": "Hq_6W0LKmpZc",
        "jp-MarkdownHeadingCollapsed": true
      },
      "source": [
        "### Descriptive Statistics"
      ]
    },
    {
      "cell_type": "code",
      "execution_count": 5,
      "metadata": {
        "colab": {
          "base_uri": "https://localhost:8080/",
          "height": 206
        },
        "id": "O74oXUjumpZc",
        "outputId": "7f69ae12-8359-4a7c-fcfe-1d6b21c25653"
      },
      "outputs": [
        {
          "data": {
            "application/vnd.google.colaboratory.intrinsic+json": {
              "type": "dataframe",
              "variable_name": "news"
            },
            "text/html": [
              "\n",
              "  <div id=\"df-af6f25ed-bded-4373-88e9-e0f1a04a91cd\" class=\"colab-df-container\">\n",
              "    <div>\n",
              "<style scoped>\n",
              "    .dataframe tbody tr th:only-of-type {\n",
              "        vertical-align: middle;\n",
              "    }\n",
              "\n",
              "    .dataframe tbody tr th {\n",
              "        vertical-align: top;\n",
              "    }\n",
              "\n",
              "    .dataframe thead th {\n",
              "        text-align: right;\n",
              "    }\n",
              "</style>\n",
              "<table border=\"1\" class=\"dataframe\">\n",
              "  <thead>\n",
              "    <tr style=\"text-align: right;\">\n",
              "      <th></th>\n",
              "      <th>Unnamed: 0</th>\n",
              "      <th>headline</th>\n",
              "      <th>url</th>\n",
              "      <th>publisher</th>\n",
              "      <th>date</th>\n",
              "      <th>stock</th>\n",
              "    </tr>\n",
              "  </thead>\n",
              "  <tbody>\n",
              "    <tr>\n",
              "      <th>0</th>\n",
              "      <td>0</td>\n",
              "      <td>Stocks That Hit 52-Week Highs On Friday</td>\n",
              "      <td>https://www.benzinga.com/news/20/06/16190091/s...</td>\n",
              "      <td>Benzinga Insights</td>\n",
              "      <td>2020-06-05 10:30:54-04:00</td>\n",
              "      <td>A</td>\n",
              "    </tr>\n",
              "    <tr>\n",
              "      <th>1</th>\n",
              "      <td>1</td>\n",
              "      <td>Stocks That Hit 52-Week Highs On Wednesday</td>\n",
              "      <td>https://www.benzinga.com/news/20/06/16170189/s...</td>\n",
              "      <td>Benzinga Insights</td>\n",
              "      <td>2020-06-03 10:45:20-04:00</td>\n",
              "      <td>A</td>\n",
              "    </tr>\n",
              "    <tr>\n",
              "      <th>2</th>\n",
              "      <td>2</td>\n",
              "      <td>71 Biggest Movers From Friday</td>\n",
              "      <td>https://www.benzinga.com/news/20/05/16103463/7...</td>\n",
              "      <td>Lisa Levin</td>\n",
              "      <td>2020-05-26 04:30:07-04:00</td>\n",
              "      <td>A</td>\n",
              "    </tr>\n",
              "    <tr>\n",
              "      <th>3</th>\n",
              "      <td>3</td>\n",
              "      <td>46 Stocks Moving In Friday's Mid-Day Session</td>\n",
              "      <td>https://www.benzinga.com/news/20/05/16095921/4...</td>\n",
              "      <td>Lisa Levin</td>\n",
              "      <td>2020-05-22 12:45:06-04:00</td>\n",
              "      <td>A</td>\n",
              "    </tr>\n",
              "    <tr>\n",
              "      <th>4</th>\n",
              "      <td>4</td>\n",
              "      <td>B of A Securities Maintains Neutral on Agilent...</td>\n",
              "      <td>https://www.benzinga.com/news/20/05/16095304/b...</td>\n",
              "      <td>Vick Meyer</td>\n",
              "      <td>2020-05-22 11:38:59-04:00</td>\n",
              "      <td>A</td>\n",
              "    </tr>\n",
              "  </tbody>\n",
              "</table>\n",
              "</div>\n",
              "    <div class=\"colab-df-buttons\">\n",
              "\n",
              "  <div class=\"colab-df-container\">\n",
              "    <button class=\"colab-df-convert\" onclick=\"convertToInteractive('df-af6f25ed-bded-4373-88e9-e0f1a04a91cd')\"\n",
              "            title=\"Convert this dataframe to an interactive table.\"\n",
              "            style=\"display:none;\">\n",
              "\n",
              "  <svg xmlns=\"http://www.w3.org/2000/svg\" height=\"24px\" viewBox=\"0 -960 960 960\">\n",
              "    <path d=\"M120-120v-720h720v720H120Zm60-500h600v-160H180v160Zm220 220h160v-160H400v160Zm0 220h160v-160H400v160ZM180-400h160v-160H180v160Zm440 0h160v-160H620v160ZM180-180h160v-160H180v160Zm440 0h160v-160H620v160Z\"/>\n",
              "  </svg>\n",
              "    </button>\n",
              "\n",
              "  <style>\n",
              "    .colab-df-container {\n",
              "      display:flex;\n",
              "      gap: 12px;\n",
              "    }\n",
              "\n",
              "    .colab-df-convert {\n",
              "      background-color: #E8F0FE;\n",
              "      border: none;\n",
              "      border-radius: 50%;\n",
              "      cursor: pointer;\n",
              "      display: none;\n",
              "      fill: #1967D2;\n",
              "      height: 32px;\n",
              "      padding: 0 0 0 0;\n",
              "      width: 32px;\n",
              "    }\n",
              "\n",
              "    .colab-df-convert:hover {\n",
              "      background-color: #E2EBFA;\n",
              "      box-shadow: 0px 1px 2px rgba(60, 64, 67, 0.3), 0px 1px 3px 1px rgba(60, 64, 67, 0.15);\n",
              "      fill: #174EA6;\n",
              "    }\n",
              "\n",
              "    .colab-df-buttons div {\n",
              "      margin-bottom: 4px;\n",
              "    }\n",
              "\n",
              "    [theme=dark] .colab-df-convert {\n",
              "      background-color: #3B4455;\n",
              "      fill: #D2E3FC;\n",
              "    }\n",
              "\n",
              "    [theme=dark] .colab-df-convert:hover {\n",
              "      background-color: #434B5C;\n",
              "      box-shadow: 0px 1px 3px 1px rgba(0, 0, 0, 0.15);\n",
              "      filter: drop-shadow(0px 1px 2px rgba(0, 0, 0, 0.3));\n",
              "      fill: #FFFFFF;\n",
              "    }\n",
              "  </style>\n",
              "\n",
              "    <script>\n",
              "      const buttonEl =\n",
              "        document.querySelector('#df-af6f25ed-bded-4373-88e9-e0f1a04a91cd button.colab-df-convert');\n",
              "      buttonEl.style.display =\n",
              "        google.colab.kernel.accessAllowed ? 'block' : 'none';\n",
              "\n",
              "      async function convertToInteractive(key) {\n",
              "        const element = document.querySelector('#df-af6f25ed-bded-4373-88e9-e0f1a04a91cd');\n",
              "        const dataTable =\n",
              "          await google.colab.kernel.invokeFunction('convertToInteractive',\n",
              "                                                    [key], {});\n",
              "        if (!dataTable) return;\n",
              "\n",
              "        const docLinkHtml = 'Like what you see? Visit the ' +\n",
              "          '<a target=\"_blank\" href=https://colab.research.google.com/notebooks/data_table.ipynb>data table notebook</a>'\n",
              "          + ' to learn more about interactive tables.';\n",
              "        element.innerHTML = '';\n",
              "        dataTable['output_type'] = 'display_data';\n",
              "        await google.colab.output.renderOutput(dataTable, element);\n",
              "        const docLink = document.createElement('div');\n",
              "        docLink.innerHTML = docLinkHtml;\n",
              "        element.appendChild(docLink);\n",
              "      }\n",
              "    </script>\n",
              "  </div>\n",
              "\n",
              "\n",
              "<div id=\"df-818589dc-cda8-4cf3-a7d5-f2748a4d5dca\">\n",
              "  <button class=\"colab-df-quickchart\" onclick=\"quickchart('df-818589dc-cda8-4cf3-a7d5-f2748a4d5dca')\"\n",
              "            title=\"Suggest charts\"\n",
              "            style=\"display:none;\">\n",
              "\n",
              "<svg xmlns=\"http://www.w3.org/2000/svg\" height=\"24px\"viewBox=\"0 0 24 24\"\n",
              "     width=\"24px\">\n",
              "    <g>\n",
              "        <path d=\"M19 3H5c-1.1 0-2 .9-2 2v14c0 1.1.9 2 2 2h14c1.1 0 2-.9 2-2V5c0-1.1-.9-2-2-2zM9 17H7v-7h2v7zm4 0h-2V7h2v10zm4 0h-2v-4h2v4z\"/>\n",
              "    </g>\n",
              "</svg>\n",
              "  </button>\n",
              "\n",
              "<style>\n",
              "  .colab-df-quickchart {\n",
              "      --bg-color: #E8F0FE;\n",
              "      --fill-color: #1967D2;\n",
              "      --hover-bg-color: #E2EBFA;\n",
              "      --hover-fill-color: #174EA6;\n",
              "      --disabled-fill-color: #AAA;\n",
              "      --disabled-bg-color: #DDD;\n",
              "  }\n",
              "\n",
              "  [theme=dark] .colab-df-quickchart {\n",
              "      --bg-color: #3B4455;\n",
              "      --fill-color: #D2E3FC;\n",
              "      --hover-bg-color: #434B5C;\n",
              "      --hover-fill-color: #FFFFFF;\n",
              "      --disabled-bg-color: #3B4455;\n",
              "      --disabled-fill-color: #666;\n",
              "  }\n",
              "\n",
              "  .colab-df-quickchart {\n",
              "    background-color: var(--bg-color);\n",
              "    border: none;\n",
              "    border-radius: 50%;\n",
              "    cursor: pointer;\n",
              "    display: none;\n",
              "    fill: var(--fill-color);\n",
              "    height: 32px;\n",
              "    padding: 0;\n",
              "    width: 32px;\n",
              "  }\n",
              "\n",
              "  .colab-df-quickchart:hover {\n",
              "    background-color: var(--hover-bg-color);\n",
              "    box-shadow: 0 1px 2px rgba(60, 64, 67, 0.3), 0 1px 3px 1px rgba(60, 64, 67, 0.15);\n",
              "    fill: var(--button-hover-fill-color);\n",
              "  }\n",
              "\n",
              "  .colab-df-quickchart-complete:disabled,\n",
              "  .colab-df-quickchart-complete:disabled:hover {\n",
              "    background-color: var(--disabled-bg-color);\n",
              "    fill: var(--disabled-fill-color);\n",
              "    box-shadow: none;\n",
              "  }\n",
              "\n",
              "  .colab-df-spinner {\n",
              "    border: 2px solid var(--fill-color);\n",
              "    border-color: transparent;\n",
              "    border-bottom-color: var(--fill-color);\n",
              "    animation:\n",
              "      spin 1s steps(1) infinite;\n",
              "  }\n",
              "\n",
              "  @keyframes spin {\n",
              "    0% {\n",
              "      border-color: transparent;\n",
              "      border-bottom-color: var(--fill-color);\n",
              "      border-left-color: var(--fill-color);\n",
              "    }\n",
              "    20% {\n",
              "      border-color: transparent;\n",
              "      border-left-color: var(--fill-color);\n",
              "      border-top-color: var(--fill-color);\n",
              "    }\n",
              "    30% {\n",
              "      border-color: transparent;\n",
              "      border-left-color: var(--fill-color);\n",
              "      border-top-color: var(--fill-color);\n",
              "      border-right-color: var(--fill-color);\n",
              "    }\n",
              "    40% {\n",
              "      border-color: transparent;\n",
              "      border-right-color: var(--fill-color);\n",
              "      border-top-color: var(--fill-color);\n",
              "    }\n",
              "    60% {\n",
              "      border-color: transparent;\n",
              "      border-right-color: var(--fill-color);\n",
              "    }\n",
              "    80% {\n",
              "      border-color: transparent;\n",
              "      border-right-color: var(--fill-color);\n",
              "      border-bottom-color: var(--fill-color);\n",
              "    }\n",
              "    90% {\n",
              "      border-color: transparent;\n",
              "      border-bottom-color: var(--fill-color);\n",
              "    }\n",
              "  }\n",
              "</style>\n",
              "\n",
              "  <script>\n",
              "    async function quickchart(key) {\n",
              "      const quickchartButtonEl =\n",
              "        document.querySelector('#' + key + ' button');\n",
              "      quickchartButtonEl.disabled = true;  // To prevent multiple clicks.\n",
              "      quickchartButtonEl.classList.add('colab-df-spinner');\n",
              "      try {\n",
              "        const charts = await google.colab.kernel.invokeFunction(\n",
              "            'suggestCharts', [key], {});\n",
              "      } catch (error) {\n",
              "        console.error('Error during call to suggestCharts:', error);\n",
              "      }\n",
              "      quickchartButtonEl.classList.remove('colab-df-spinner');\n",
              "      quickchartButtonEl.classList.add('colab-df-quickchart-complete');\n",
              "    }\n",
              "    (() => {\n",
              "      let quickchartButtonEl =\n",
              "        document.querySelector('#df-818589dc-cda8-4cf3-a7d5-f2748a4d5dca button');\n",
              "      quickchartButtonEl.style.display =\n",
              "        google.colab.kernel.accessAllowed ? 'block' : 'none';\n",
              "    })();\n",
              "  </script>\n",
              "</div>\n",
              "\n",
              "    </div>\n",
              "  </div>\n"
            ],
            "text/plain": [
              "   Unnamed: 0                                           headline  \\\n",
              "0           0            Stocks That Hit 52-Week Highs On Friday   \n",
              "1           1         Stocks That Hit 52-Week Highs On Wednesday   \n",
              "2           2                      71 Biggest Movers From Friday   \n",
              "3           3       46 Stocks Moving In Friday's Mid-Day Session   \n",
              "4           4  B of A Securities Maintains Neutral on Agilent...   \n",
              "\n",
              "                                                 url          publisher  \\\n",
              "0  https://www.benzinga.com/news/20/06/16190091/s...  Benzinga Insights   \n",
              "1  https://www.benzinga.com/news/20/06/16170189/s...  Benzinga Insights   \n",
              "2  https://www.benzinga.com/news/20/05/16103463/7...         Lisa Levin   \n",
              "3  https://www.benzinga.com/news/20/05/16095921/4...         Lisa Levin   \n",
              "4  https://www.benzinga.com/news/20/05/16095304/b...         Vick Meyer   \n",
              "\n",
              "                        date stock  \n",
              "0  2020-06-05 10:30:54-04:00     A  \n",
              "1  2020-06-03 10:45:20-04:00     A  \n",
              "2  2020-05-26 04:30:07-04:00     A  \n",
              "3  2020-05-22 12:45:06-04:00     A  \n",
              "4  2020-05-22 11:38:59-04:00     A  "
            ]
          },
          "execution_count": 5,
          "metadata": {},
          "output_type": "execute_result"
        }
      ],
      "source": [
        "news.head()"
      ]
    },
    {
      "cell_type": "code",
      "execution_count": 4,
      "metadata": {
        "id": "ddj45tZXmpZd"
      },
      "outputs": [],
      "source": [
        "news = news.drop('Unnamed: 0', axis=1)"
      ]
    },
    {
      "cell_type": "code",
      "execution_count": 4,
      "metadata": {
        "id": "megLeDAVmpZd",
        "outputId": "268e309d-5da7-4fea-8daa-23cf6452bacc"
      },
      "outputs": [
        {
          "data": {
            "text/plain": [
              "Index(['headline', 'url', 'publisher', 'date', 'stock'], dtype='object')"
            ]
          },
          "execution_count": 4,
          "metadata": {},
          "output_type": "execute_result"
        }
      ],
      "source": [
        "news.columns"
      ]
    },
    {
      "cell_type": "code",
      "execution_count": null,
      "metadata": {
        "id": "4gTwk4NXmpZe",
        "outputId": "7b7a373c-9ca7-4f8c-960a-077b67c36655"
      },
      "outputs": [
        {
          "data": {
            "text/html": [
              "<div>\n",
              "<style scoped>\n",
              "    .dataframe tbody tr th:only-of-type {\n",
              "        vertical-align: middle;\n",
              "    }\n",
              "\n",
              "    .dataframe tbody tr th {\n",
              "        vertical-align: top;\n",
              "    }\n",
              "\n",
              "    .dataframe thead th {\n",
              "        text-align: right;\n",
              "    }\n",
              "</style>\n",
              "<table border=\"1\" class=\"dataframe\">\n",
              "  <thead>\n",
              "    <tr style=\"text-align: right;\">\n",
              "      <th></th>\n",
              "      <th>headline</th>\n",
              "      <th>url</th>\n",
              "      <th>publisher</th>\n",
              "      <th>date</th>\n",
              "      <th>stock</th>\n",
              "    </tr>\n",
              "  </thead>\n",
              "  <tbody>\n",
              "    <tr>\n",
              "      <th>0</th>\n",
              "      <td>Stocks That Hit 52-Week Highs On Friday</td>\n",
              "      <td>https://www.benzinga.com/news/20/06/16190091/s...</td>\n",
              "      <td>Benzinga Insights</td>\n",
              "      <td>2020-06-05 10:30:54-04:00</td>\n",
              "      <td>A</td>\n",
              "    </tr>\n",
              "    <tr>\n",
              "      <th>1</th>\n",
              "      <td>Stocks That Hit 52-Week Highs On Wednesday</td>\n",
              "      <td>https://www.benzinga.com/news/20/06/16170189/s...</td>\n",
              "      <td>Benzinga Insights</td>\n",
              "      <td>2020-06-03 10:45:20-04:00</td>\n",
              "      <td>A</td>\n",
              "    </tr>\n",
              "    <tr>\n",
              "      <th>2</th>\n",
              "      <td>71 Biggest Movers From Friday</td>\n",
              "      <td>https://www.benzinga.com/news/20/05/16103463/7...</td>\n",
              "      <td>Lisa Levin</td>\n",
              "      <td>2020-05-26 04:30:07-04:00</td>\n",
              "      <td>A</td>\n",
              "    </tr>\n",
              "    <tr>\n",
              "      <th>3</th>\n",
              "      <td>46 Stocks Moving In Friday's Mid-Day Session</td>\n",
              "      <td>https://www.benzinga.com/news/20/05/16095921/4...</td>\n",
              "      <td>Lisa Levin</td>\n",
              "      <td>2020-05-22 12:45:06-04:00</td>\n",
              "      <td>A</td>\n",
              "    </tr>\n",
              "    <tr>\n",
              "      <th>4</th>\n",
              "      <td>B of A Securities Maintains Neutral on Agilent...</td>\n",
              "      <td>https://www.benzinga.com/news/20/05/16095304/b...</td>\n",
              "      <td>Vick Meyer</td>\n",
              "      <td>2020-05-22 11:38:59-04:00</td>\n",
              "      <td>A</td>\n",
              "    </tr>\n",
              "  </tbody>\n",
              "</table>\n",
              "</div>"
            ],
            "text/plain": [
              "                                            headline  \\\n",
              "0            Stocks That Hit 52-Week Highs On Friday   \n",
              "1         Stocks That Hit 52-Week Highs On Wednesday   \n",
              "2                      71 Biggest Movers From Friday   \n",
              "3       46 Stocks Moving In Friday's Mid-Day Session   \n",
              "4  B of A Securities Maintains Neutral on Agilent...   \n",
              "\n",
              "                                                 url          publisher  \\\n",
              "0  https://www.benzinga.com/news/20/06/16190091/s...  Benzinga Insights   \n",
              "1  https://www.benzinga.com/news/20/06/16170189/s...  Benzinga Insights   \n",
              "2  https://www.benzinga.com/news/20/05/16103463/7...         Lisa Levin   \n",
              "3  https://www.benzinga.com/news/20/05/16095921/4...         Lisa Levin   \n",
              "4  https://www.benzinga.com/news/20/05/16095304/b...         Vick Meyer   \n",
              "\n",
              "                        date stock  \n",
              "0  2020-06-05 10:30:54-04:00     A  \n",
              "1  2020-06-03 10:45:20-04:00     A  \n",
              "2  2020-05-26 04:30:07-04:00     A  \n",
              "3  2020-05-22 12:45:06-04:00     A  \n",
              "4  2020-05-22 11:38:59-04:00     A  "
            ]
          },
          "execution_count": 7,
          "metadata": {},
          "output_type": "execute_result"
        }
      ],
      "source": [
        "news.head()"
      ]
    },
    {
      "cell_type": "code",
      "execution_count": null,
      "metadata": {
        "id": "o91NdrYhmpZe",
        "outputId": "a9da886b-06ad-4afb-e6a3-5b00ef01e656"
      },
      "outputs": [
        {
          "data": {
            "text/plain": [
              "headline     object\n",
              "url          object\n",
              "publisher    object\n",
              "date         object\n",
              "stock        object\n",
              "dtype: object"
            ]
          },
          "execution_count": 8,
          "metadata": {},
          "output_type": "execute_result"
        }
      ],
      "source": [
        "news.dtypes"
      ]
    },
    {
      "cell_type": "code",
      "execution_count": 5,
      "metadata": {
        "id": "DieTVsLpmpZe"
      },
      "outputs": [],
      "source": [
        "news['date'] = pd.to_datetime(news['date'], format= 'ISO8601', utc=True)"
      ]
    },
    {
      "cell_type": "code",
      "execution_count": 6,
      "metadata": {
        "id": "_tJDdbdempZe",
        "outputId": "e504cd7d-ec4e-4115-d3aa-694fb0f9d91b"
      },
      "outputs": [
        {
          "data": {
            "text/plain": [
              "headline                  object\n",
              "url                       object\n",
              "publisher                 object\n",
              "date         datetime64[ns, UTC]\n",
              "stock                     object\n",
              "dtype: object"
            ]
          },
          "execution_count": 6,
          "metadata": {},
          "output_type": "execute_result"
        }
      ],
      "source": [
        "news.dtypes"
      ]
    },
    {
      "cell_type": "code",
      "execution_count": 8,
      "metadata": {
        "colab": {
          "base_uri": "https://localhost:8080/",
          "height": 206
        },
        "id": "XoKYjCZJmpZf",
        "outputId": "b03ab5e1-8296-424f-ae57-c1672e220fa9"
      },
      "outputs": [
        {
          "data": {
            "application/vnd.google.colaboratory.intrinsic+json": {
              "type": "dataframe",
              "variable_name": "news"
            },
            "text/html": [
              "\n",
              "  <div id=\"df-d36892e0-bd84-49d2-a280-9d90fb991559\" class=\"colab-df-container\">\n",
              "    <div>\n",
              "<style scoped>\n",
              "    .dataframe tbody tr th:only-of-type {\n",
              "        vertical-align: middle;\n",
              "    }\n",
              "\n",
              "    .dataframe tbody tr th {\n",
              "        vertical-align: top;\n",
              "    }\n",
              "\n",
              "    .dataframe thead th {\n",
              "        text-align: right;\n",
              "    }\n",
              "</style>\n",
              "<table border=\"1\" class=\"dataframe\">\n",
              "  <thead>\n",
              "    <tr style=\"text-align: right;\">\n",
              "      <th></th>\n",
              "      <th>headline</th>\n",
              "      <th>url</th>\n",
              "      <th>publisher</th>\n",
              "      <th>date</th>\n",
              "      <th>stock</th>\n",
              "    </tr>\n",
              "  </thead>\n",
              "  <tbody>\n",
              "    <tr>\n",
              "      <th>0</th>\n",
              "      <td>Stocks That Hit 52-Week Highs On Friday</td>\n",
              "      <td>https://www.benzinga.com/news/20/06/16190091/s...</td>\n",
              "      <td>Benzinga Insights</td>\n",
              "      <td>2020-06-05 14:30:54+00:00</td>\n",
              "      <td>A</td>\n",
              "    </tr>\n",
              "    <tr>\n",
              "      <th>1</th>\n",
              "      <td>Stocks That Hit 52-Week Highs On Wednesday</td>\n",
              "      <td>https://www.benzinga.com/news/20/06/16170189/s...</td>\n",
              "      <td>Benzinga Insights</td>\n",
              "      <td>2020-06-03 14:45:20+00:00</td>\n",
              "      <td>A</td>\n",
              "    </tr>\n",
              "    <tr>\n",
              "      <th>2</th>\n",
              "      <td>71 Biggest Movers From Friday</td>\n",
              "      <td>https://www.benzinga.com/news/20/05/16103463/7...</td>\n",
              "      <td>Lisa Levin</td>\n",
              "      <td>2020-05-26 08:30:07+00:00</td>\n",
              "      <td>A</td>\n",
              "    </tr>\n",
              "    <tr>\n",
              "      <th>3</th>\n",
              "      <td>46 Stocks Moving In Friday's Mid-Day Session</td>\n",
              "      <td>https://www.benzinga.com/news/20/05/16095921/4...</td>\n",
              "      <td>Lisa Levin</td>\n",
              "      <td>2020-05-22 16:45:06+00:00</td>\n",
              "      <td>A</td>\n",
              "    </tr>\n",
              "    <tr>\n",
              "      <th>4</th>\n",
              "      <td>B of A Securities Maintains Neutral on Agilent...</td>\n",
              "      <td>https://www.benzinga.com/news/20/05/16095304/b...</td>\n",
              "      <td>Vick Meyer</td>\n",
              "      <td>2020-05-22 15:38:59+00:00</td>\n",
              "      <td>A</td>\n",
              "    </tr>\n",
              "  </tbody>\n",
              "</table>\n",
              "</div>\n",
              "    <div class=\"colab-df-buttons\">\n",
              "\n",
              "  <div class=\"colab-df-container\">\n",
              "    <button class=\"colab-df-convert\" onclick=\"convertToInteractive('df-d36892e0-bd84-49d2-a280-9d90fb991559')\"\n",
              "            title=\"Convert this dataframe to an interactive table.\"\n",
              "            style=\"display:none;\">\n",
              "\n",
              "  <svg xmlns=\"http://www.w3.org/2000/svg\" height=\"24px\" viewBox=\"0 -960 960 960\">\n",
              "    <path d=\"M120-120v-720h720v720H120Zm60-500h600v-160H180v160Zm220 220h160v-160H400v160Zm0 220h160v-160H400v160ZM180-400h160v-160H180v160Zm440 0h160v-160H620v160ZM180-180h160v-160H180v160Zm440 0h160v-160H620v160Z\"/>\n",
              "  </svg>\n",
              "    </button>\n",
              "\n",
              "  <style>\n",
              "    .colab-df-container {\n",
              "      display:flex;\n",
              "      gap: 12px;\n",
              "    }\n",
              "\n",
              "    .colab-df-convert {\n",
              "      background-color: #E8F0FE;\n",
              "      border: none;\n",
              "      border-radius: 50%;\n",
              "      cursor: pointer;\n",
              "      display: none;\n",
              "      fill: #1967D2;\n",
              "      height: 32px;\n",
              "      padding: 0 0 0 0;\n",
              "      width: 32px;\n",
              "    }\n",
              "\n",
              "    .colab-df-convert:hover {\n",
              "      background-color: #E2EBFA;\n",
              "      box-shadow: 0px 1px 2px rgba(60, 64, 67, 0.3), 0px 1px 3px 1px rgba(60, 64, 67, 0.15);\n",
              "      fill: #174EA6;\n",
              "    }\n",
              "\n",
              "    .colab-df-buttons div {\n",
              "      margin-bottom: 4px;\n",
              "    }\n",
              "\n",
              "    [theme=dark] .colab-df-convert {\n",
              "      background-color: #3B4455;\n",
              "      fill: #D2E3FC;\n",
              "    }\n",
              "\n",
              "    [theme=dark] .colab-df-convert:hover {\n",
              "      background-color: #434B5C;\n",
              "      box-shadow: 0px 1px 3px 1px rgba(0, 0, 0, 0.15);\n",
              "      filter: drop-shadow(0px 1px 2px rgba(0, 0, 0, 0.3));\n",
              "      fill: #FFFFFF;\n",
              "    }\n",
              "  </style>\n",
              "\n",
              "    <script>\n",
              "      const buttonEl =\n",
              "        document.querySelector('#df-d36892e0-bd84-49d2-a280-9d90fb991559 button.colab-df-convert');\n",
              "      buttonEl.style.display =\n",
              "        google.colab.kernel.accessAllowed ? 'block' : 'none';\n",
              "\n",
              "      async function convertToInteractive(key) {\n",
              "        const element = document.querySelector('#df-d36892e0-bd84-49d2-a280-9d90fb991559');\n",
              "        const dataTable =\n",
              "          await google.colab.kernel.invokeFunction('convertToInteractive',\n",
              "                                                    [key], {});\n",
              "        if (!dataTable) return;\n",
              "\n",
              "        const docLinkHtml = 'Like what you see? Visit the ' +\n",
              "          '<a target=\"_blank\" href=https://colab.research.google.com/notebooks/data_table.ipynb>data table notebook</a>'\n",
              "          + ' to learn more about interactive tables.';\n",
              "        element.innerHTML = '';\n",
              "        dataTable['output_type'] = 'display_data';\n",
              "        await google.colab.output.renderOutput(dataTable, element);\n",
              "        const docLink = document.createElement('div');\n",
              "        docLink.innerHTML = docLinkHtml;\n",
              "        element.appendChild(docLink);\n",
              "      }\n",
              "    </script>\n",
              "  </div>\n",
              "\n",
              "\n",
              "<div id=\"df-0c8252ef-39a5-4f5f-a0a7-97c014cc9b5a\">\n",
              "  <button class=\"colab-df-quickchart\" onclick=\"quickchart('df-0c8252ef-39a5-4f5f-a0a7-97c014cc9b5a')\"\n",
              "            title=\"Suggest charts\"\n",
              "            style=\"display:none;\">\n",
              "\n",
              "<svg xmlns=\"http://www.w3.org/2000/svg\" height=\"24px\"viewBox=\"0 0 24 24\"\n",
              "     width=\"24px\">\n",
              "    <g>\n",
              "        <path d=\"M19 3H5c-1.1 0-2 .9-2 2v14c0 1.1.9 2 2 2h14c1.1 0 2-.9 2-2V5c0-1.1-.9-2-2-2zM9 17H7v-7h2v7zm4 0h-2V7h2v10zm4 0h-2v-4h2v4z\"/>\n",
              "    </g>\n",
              "</svg>\n",
              "  </button>\n",
              "\n",
              "<style>\n",
              "  .colab-df-quickchart {\n",
              "      --bg-color: #E8F0FE;\n",
              "      --fill-color: #1967D2;\n",
              "      --hover-bg-color: #E2EBFA;\n",
              "      --hover-fill-color: #174EA6;\n",
              "      --disabled-fill-color: #AAA;\n",
              "      --disabled-bg-color: #DDD;\n",
              "  }\n",
              "\n",
              "  [theme=dark] .colab-df-quickchart {\n",
              "      --bg-color: #3B4455;\n",
              "      --fill-color: #D2E3FC;\n",
              "      --hover-bg-color: #434B5C;\n",
              "      --hover-fill-color: #FFFFFF;\n",
              "      --disabled-bg-color: #3B4455;\n",
              "      --disabled-fill-color: #666;\n",
              "  }\n",
              "\n",
              "  .colab-df-quickchart {\n",
              "    background-color: var(--bg-color);\n",
              "    border: none;\n",
              "    border-radius: 50%;\n",
              "    cursor: pointer;\n",
              "    display: none;\n",
              "    fill: var(--fill-color);\n",
              "    height: 32px;\n",
              "    padding: 0;\n",
              "    width: 32px;\n",
              "  }\n",
              "\n",
              "  .colab-df-quickchart:hover {\n",
              "    background-color: var(--hover-bg-color);\n",
              "    box-shadow: 0 1px 2px rgba(60, 64, 67, 0.3), 0 1px 3px 1px rgba(60, 64, 67, 0.15);\n",
              "    fill: var(--button-hover-fill-color);\n",
              "  }\n",
              "\n",
              "  .colab-df-quickchart-complete:disabled,\n",
              "  .colab-df-quickchart-complete:disabled:hover {\n",
              "    background-color: var(--disabled-bg-color);\n",
              "    fill: var(--disabled-fill-color);\n",
              "    box-shadow: none;\n",
              "  }\n",
              "\n",
              "  .colab-df-spinner {\n",
              "    border: 2px solid var(--fill-color);\n",
              "    border-color: transparent;\n",
              "    border-bottom-color: var(--fill-color);\n",
              "    animation:\n",
              "      spin 1s steps(1) infinite;\n",
              "  }\n",
              "\n",
              "  @keyframes spin {\n",
              "    0% {\n",
              "      border-color: transparent;\n",
              "      border-bottom-color: var(--fill-color);\n",
              "      border-left-color: var(--fill-color);\n",
              "    }\n",
              "    20% {\n",
              "      border-color: transparent;\n",
              "      border-left-color: var(--fill-color);\n",
              "      border-top-color: var(--fill-color);\n",
              "    }\n",
              "    30% {\n",
              "      border-color: transparent;\n",
              "      border-left-color: var(--fill-color);\n",
              "      border-top-color: var(--fill-color);\n",
              "      border-right-color: var(--fill-color);\n",
              "    }\n",
              "    40% {\n",
              "      border-color: transparent;\n",
              "      border-right-color: var(--fill-color);\n",
              "      border-top-color: var(--fill-color);\n",
              "    }\n",
              "    60% {\n",
              "      border-color: transparent;\n",
              "      border-right-color: var(--fill-color);\n",
              "    }\n",
              "    80% {\n",
              "      border-color: transparent;\n",
              "      border-right-color: var(--fill-color);\n",
              "      border-bottom-color: var(--fill-color);\n",
              "    }\n",
              "    90% {\n",
              "      border-color: transparent;\n",
              "      border-bottom-color: var(--fill-color);\n",
              "    }\n",
              "  }\n",
              "</style>\n",
              "\n",
              "  <script>\n",
              "    async function quickchart(key) {\n",
              "      const quickchartButtonEl =\n",
              "        document.querySelector('#' + key + ' button');\n",
              "      quickchartButtonEl.disabled = true;  // To prevent multiple clicks.\n",
              "      quickchartButtonEl.classList.add('colab-df-spinner');\n",
              "      try {\n",
              "        const charts = await google.colab.kernel.invokeFunction(\n",
              "            'suggestCharts', [key], {});\n",
              "      } catch (error) {\n",
              "        console.error('Error during call to suggestCharts:', error);\n",
              "      }\n",
              "      quickchartButtonEl.classList.remove('colab-df-spinner');\n",
              "      quickchartButtonEl.classList.add('colab-df-quickchart-complete');\n",
              "    }\n",
              "    (() => {\n",
              "      let quickchartButtonEl =\n",
              "        document.querySelector('#df-0c8252ef-39a5-4f5f-a0a7-97c014cc9b5a button');\n",
              "      quickchartButtonEl.style.display =\n",
              "        google.colab.kernel.accessAllowed ? 'block' : 'none';\n",
              "    })();\n",
              "  </script>\n",
              "</div>\n",
              "\n",
              "    </div>\n",
              "  </div>\n"
            ],
            "text/plain": [
              "                                            headline  \\\n",
              "0            Stocks That Hit 52-Week Highs On Friday   \n",
              "1         Stocks That Hit 52-Week Highs On Wednesday   \n",
              "2                      71 Biggest Movers From Friday   \n",
              "3       46 Stocks Moving In Friday's Mid-Day Session   \n",
              "4  B of A Securities Maintains Neutral on Agilent...   \n",
              "\n",
              "                                                 url          publisher  \\\n",
              "0  https://www.benzinga.com/news/20/06/16190091/s...  Benzinga Insights   \n",
              "1  https://www.benzinga.com/news/20/06/16170189/s...  Benzinga Insights   \n",
              "2  https://www.benzinga.com/news/20/05/16103463/7...         Lisa Levin   \n",
              "3  https://www.benzinga.com/news/20/05/16095921/4...         Lisa Levin   \n",
              "4  https://www.benzinga.com/news/20/05/16095304/b...         Vick Meyer   \n",
              "\n",
              "                       date stock  \n",
              "0 2020-06-05 14:30:54+00:00     A  \n",
              "1 2020-06-03 14:45:20+00:00     A  \n",
              "2 2020-05-26 08:30:07+00:00     A  \n",
              "3 2020-05-22 16:45:06+00:00     A  \n",
              "4 2020-05-22 15:38:59+00:00     A  "
            ]
          },
          "execution_count": 8,
          "metadata": {},
          "output_type": "execute_result"
        }
      ],
      "source": [
        "news.head()"
      ]
    },
    {
      "cell_type": "code",
      "execution_count": null,
      "metadata": {
        "id": "GR_wD-HZmpZf",
        "outputId": "08cf2c61-8566-4040-c94d-cc8a640212f9"
      },
      "outputs": [
        {
          "data": {
            "text/plain": [
              "(1407328, 5)"
            ]
          },
          "execution_count": 12,
          "metadata": {},
          "output_type": "execute_result"
        }
      ],
      "source": [
        "news.shape"
      ]
    },
    {
      "cell_type": "code",
      "execution_count": 58,
      "metadata": {},
      "outputs": [
        {
          "name": "stdout",
          "output_type": "stream",
          "text": [
            "Unique stocks: 6204\n"
          ]
        }
      ],
      "source": [
        "# Get unique stocks using unique()\n",
        "unique_stocks = news['stock'].unique()\n",
        "print(\"Unique stocks:\", len(unique_stocks))"
      ]
    },
    {
      "cell_type": "markdown",
      "metadata": {
        "id": "WBJRcKYlmpZf"
      },
      "source": [
        "- Headline Length"
      ]
    },
    {
      "cell_type": "code",
      "execution_count": null,
      "metadata": {
        "id": "44--ejghmpZf",
        "outputId": "a7996a83-8e07-45da-bb59-d8e687b32a5a"
      },
      "outputs": [
        {
          "name": "stdout",
          "output_type": "stream",
          "text": [
            "total headlines:  1407328\n",
            "unique dates:  39957\n"
          ]
        }
      ],
      "source": [
        "news['word_count'] = news['headline'].apply(lambda x: len(x.split()))\n",
        "total_headlines = news.shape[0]\n",
        "print('total headlines: ', total_headlines)\n",
        "unique_dates = news['date'].nunique()\n",
        "print('unique dates: ', unique_dates)"
      ]
    },
    {
      "cell_type": "code",
      "execution_count": null,
      "metadata": {
        "id": "CN2mAkJ8mpZg",
        "outputId": "6aff0789-6ecc-493e-e6fc-ad4428603e63"
      },
      "outputs": [
        {
          "name": "stdout",
          "output_type": "stream",
          "text": [
            "minimum words on headline:  1\n"
          ]
        }
      ],
      "source": [
        "# minimum word on headlines\n",
        "min_words = news['word_count'].min()\n",
        "print('minimum words on headline: ', min_words)"
      ]
    },
    {
      "cell_type": "code",
      "execution_count": null,
      "metadata": {
        "id": "spc-_zORmpZg",
        "outputId": "3eb7da33-260b-4043-e656-985219a382bb"
      },
      "outputs": [
        {
          "name": "stdout",
          "output_type": "stream",
          "text": [
            "Number of publishers with minimum nuber of headlines: 59\n"
          ]
        }
      ],
      "source": [
        "min_word_count_rows = news[news['word_count'] == 1]\n",
        "min_word_count_rows\n",
        "min_word_count_indices = news.index[news['word_count'] == 1].tolist()\n",
        "min_num = len(min_word_count_indices)\n",
        "print('Number of publishers with minimum nuber of headlines:', min_num)"
      ]
    },
    {
      "cell_type": "code",
      "execution_count": null,
      "metadata": {
        "id": "DIF2wWJzmpZg",
        "outputId": "bd997577-c7ce-40e2-ec61-52afe1e2ab78"
      },
      "outputs": [
        {
          "name": "stdout",
          "output_type": "stream",
          "text": [
            "maximum words on headline:  77\n"
          ]
        }
      ],
      "source": [
        "# maximum word on headlines\n",
        "max_words = news['word_count'].max()\n",
        "print('maximum words on headline: ', max_words)"
      ]
    },
    {
      "cell_type": "code",
      "execution_count": null,
      "metadata": {
        "id": "rEj1cHXAmpZg",
        "outputId": "d120b232-f25c-423d-e4db-ca6297c95c5f"
      },
      "outputs": [
        {
          "data": {
            "text/plain": [
              "11.416705984674504"
            ]
          },
          "execution_count": 22,
          "metadata": {},
          "output_type": "execute_result"
        }
      ],
      "source": [
        "# Average headline length\n",
        "average_word_count = news['word_count'].mean()\n",
        "average_word_count"
      ]
    },
    {
      "cell_type": "code",
      "execution_count": null,
      "metadata": {
        "id": "U3eR8H-MmpZg",
        "outputId": "8afab0af-4538-4f70-872f-ac95504fc101"
      },
      "outputs": [
        {
          "name": "stdout",
          "output_type": "stream",
          "text": [
            "                                                                                                                                                                                                                                                                                                                                                                                                                                                                                                                                headline                                                                                                                                                url      publisher                      date stock  word_count\n",
            "701748  JinkoSolar Tiger Pro Series Receives World's First IEC 61701 Ed. 3 (FDIS) Certification for Salt Mist Corrosion Standards JinkoSolar Holding Co., Ltd. (the \"Company,\" or \"JinkoSolar\") (NYSE:JKS), one of the largest and most innovative solar module manufacturers in the world, today announced that its innovative Tiger Pro Series of high-efficiency modules received the world's first IEC 61701 Ed. 3 (FDIS) certification for salt mist corrosion test issued by TÜV Nord AG, an independent provider of technical ser  https://www.benzinga.com/news/20/06/16166972/jinkosolar-tiger-pro-series-receives-worlds-first-iec-61701-ed-3-fdis-certification-for-salt-mist-co  Charles Gross 2020-06-03 09:45:14+00:00   JKS          77\n"
          ]
        }
      ],
      "source": [
        "# Get rows with maximum word count\n",
        "max_word_count_rows = news[news['word_count'] == news['word_count'].max()]\n",
        "\n",
        "# Display the full headlines\n",
        "print(max_word_count_rows.to_string())"
      ]
    },
    {
      "cell_type": "markdown",
      "metadata": {
        "id": "FoxqZ1qDmpZh"
      },
      "source": [
        "- Number of articles per publisher"
      ]
    },
    {
      "cell_type": "code",
      "execution_count": null,
      "metadata": {
        "id": "IwqNyZvsmpZh",
        "outputId": "f75ab2b1-01ef-44d8-f98c-94251040f7ee"
      },
      "outputs": [
        {
          "name": "stdout",
          "output_type": "stream",
          "text": [
            "                       publisher  article_count\n",
            "0                     47ertrends             18\n",
            "1                           AARP              7\n",
            "2                    ABNNewswire             13\n",
            "3                          Aakin              5\n",
            "4               Aaron Jackson.Ed             16\n",
            "...                          ...            ...\n",
            "1029  vic@forextraininggroup.com              1\n",
            "1030     vishwanath@benzinga.com           1830\n",
            "1031   vivek.proactive@gmail.com            120\n",
            "1032              wallstreet1928              8\n",
            "1033                   webmaster          20313\n",
            "\n",
            "[1034 rows x 2 columns]\n"
          ]
        },
        {
          "data": {
            "text/plain": [
              "publisher        object\n",
              "article_count     int64\n",
              "dtype: object"
            ]
          },
          "execution_count": 43,
          "metadata": {},
          "output_type": "execute_result"
        }
      ],
      "source": [
        "\n",
        "articles_per_publisher = news.groupby('publisher').size().reset_index(name='headline_count')\n",
        "\n",
        "# Display the result\n",
        "print(articles_per_publisher)\n"
      ]
    },
    {
      "cell_type": "code",
      "execution_count": null,
      "metadata": {
        "id": "KipTDidhmpZh",
        "outputId": "9addc4a7-1fa4-4c98-a657-3d0a13334620"
      },
      "outputs": [
        {
          "data": {
            "text/plain": [
              "1034"
            ]
          },
          "execution_count": 44,
          "metadata": {},
          "output_type": "execute_result"
        }
      ],
      "source": [
        "len(articles_per_publisher)"
      ]
    },
    {
      "cell_type": "code",
      "execution_count": null,
      "metadata": {
        "id": "PUNztZX5mpZh",
        "outputId": "9978bce3-62f0-4b1a-c26f-476552243568"
      },
      "outputs": [
        {
          "data": {
            "text/html": [
              "<div>\n",
              "<style scoped>\n",
              "    .dataframe tbody tr th:only-of-type {\n",
              "        vertical-align: middle;\n",
              "    }\n",
              "\n",
              "    .dataframe tbody tr th {\n",
              "        vertical-align: top;\n",
              "    }\n",
              "\n",
              "    .dataframe thead th {\n",
              "        text-align: right;\n",
              "    }\n",
              "</style>\n",
              "<table border=\"1\" class=\"dataframe\">\n",
              "  <thead>\n",
              "    <tr style=\"text-align: right;\">\n",
              "      <th></th>\n",
              "      <th>publisher</th>\n",
              "      <th>article_count</th>\n",
              "    </tr>\n",
              "  </thead>\n",
              "  <tbody>\n",
              "    <tr>\n",
              "      <th>622</th>\n",
              "      <td>Monica Gerson</td>\n",
              "      <td>82380</td>\n",
              "    </tr>\n",
              "    <tr>\n",
              "      <th>169</th>\n",
              "      <td>Charles Gross</td>\n",
              "      <td>96732</td>\n",
              "    </tr>\n",
              "    <tr>\n",
              "      <th>96</th>\n",
              "      <td>Benzinga Newsdesk</td>\n",
              "      <td>150484</td>\n",
              "    </tr>\n",
              "    <tr>\n",
              "      <th>532</th>\n",
              "      <td>Lisa Levin</td>\n",
              "      <td>186979</td>\n",
              "    </tr>\n",
              "    <tr>\n",
              "      <th>686</th>\n",
              "      <td>Paul Quintaro</td>\n",
              "      <td>228373</td>\n",
              "    </tr>\n",
              "  </tbody>\n",
              "</table>\n",
              "</div>"
            ],
            "text/plain": [
              "             publisher  article_count\n",
              "622      Monica Gerson          82380\n",
              "169      Charles Gross          96732\n",
              "96   Benzinga Newsdesk         150484\n",
              "532         Lisa Levin         186979\n",
              "686      Paul Quintaro         228373"
            ]
          },
          "execution_count": 49,
          "metadata": {},
          "output_type": "execute_result"
        }
      ],
      "source": [
        "#  Sorting in ascending order\n",
        "sorted_publishers = articles_per_publisher.sort_values(by='article_count', ascending=True)\n",
        "sorted_publishers.tail()"
      ]
    },
    {
      "cell_type": "code",
      "execution_count": null,
      "metadata": {
        "id": "v2Lq8AfGmpZh"
      },
      "outputs": [],
      "source": []
    },
    {
      "cell_type": "code",
      "execution_count": null,
      "metadata": {
        "id": "B6r84jZ0mpZh",
        "outputId": "ac172a9f-8b94-4507-924a-30185c072700"
      },
      "outputs": [
        {
          "data": {
            "image/png": "[encoded data removed]",
            "text/plain": [
              "<Figure size 1200x600 with 1 Axes>"
            ]
          },
          "metadata": {},
          "output_type": "display_data"
        }
      ],
      "source": [
        "plt.figure(figsize=(12, 6))\n",
        "plt.hist(articles_per_publisher['headline_count'], bins=30, color='skyblue', edgecolor='black')\n",
        "plt.xlabel('Number of Headlines')\n",
        "plt.ylabel('Number of Publishers')\n",
        "plt.title('Distribution of Headline Counts per Publisher')\n",
        "plt.tight_layout()\n",
        "plt.show()"
      ]
    },
    {
      "cell_type": "markdown",
      "metadata": {
        "id": "5gZjQiMlmpZh"
      },
      "source": [
        "### Trend"
      ]
    },
    {
      "cell_type": "code",
      "execution_count": 31,
      "metadata": {
        "id": "HW-W6J4rmpZh",
        "outputId": "65e6f22c-569b-4f6c-e56c-196714afa8c0"
      },
      "outputs": [
        {
          "data": {
            "text/plain": [
              "date\n",
              "2020-06-07     25\n",
              "2020-06-08    765\n",
              "2020-06-09    803\n",
              "2020-06-10    807\n",
              "2020-06-11    544\n",
              "dtype: int64"
            ]
          },
          "execution_count": 31,
          "metadata": {},
          "output_type": "execute_result"
        }
      ],
      "source": [
        "daily_counts = news.groupby(news['date'].dt.date).size()\n",
        "daily_counts.tail()"
      ]
    },
    {
      "cell_type": "code",
      "execution_count": null,
      "metadata": {
        "id": "4fVfvZmfmpZi",
        "outputId": "5a9ad348-599e-4055-fb80-93663ab61071"
      },
      "outputs": [
        {
          "data": {
            "image/png": "[encoded data removed]",
            "text/plain": [
              "<Figure size 1200x600 with 1 Axes>"
            ]
          },
          "metadata": {},
          "output_type": "display_data"
        }
      ],
      "source": [
        "plt.figure(figsize=(12, 6))\n",
        "daily_counts.plot()\n",
        "plt.title('Daily News Headlines Count')\n",
        "plt.xlabel('Day')\n",
        "plt.ylabel('Number of Headlines')\n",
        "plt.show()"
      ]
    },
    {
      "cell_type": "code",
      "execution_count": null,
      "metadata": {
        "id": "HXC4yJTAmpZi"
      },
      "outputs": [],
      "source": [
        "#   Daily counts\n",
        "news['day_of_week'] = news['date'].dt.day_name()\n",
        "articles_per_day = news.groupby('day_of_week').size().reindex(['Monday', 'Tuesday', 'Wednesday', 'Thursday', 'Friday', 'Saturday', 'Sunday'], fill_value=0)"
      ]
    },
    {
      "cell_type": "code",
      "execution_count": null,
      "metadata": {
        "id": "rVQQmFAkmpZi",
        "outputId": "cd4180f4-4009-4a63-ebd7-5d818afc3dca"
      },
      "outputs": [
        {
          "name": "stderr",
          "output_type": "stream",
          "text": [
            "C:\\Users\\Yoseph\\AppData\\Local\\Temp\\ipykernel_30908\\2400483127.py:3: FutureWarning: \n",
            "\n",
            "Passing `palette` without assigning `hue` is deprecated and will be removed in v0.14.0. Assign the `x` variable to `hue` and set `legend=False` for the same effect.\n",
            "\n",
            "  sns.barplot(x=articles_per_day.index, y=articles_per_day.values, palette='Blues_d')\n"
          ]
        },
        {
          "data": {
            "image/png": "[encoded data removed]",
            "text/plain": [
              "<Figure size 1200x600 with 1 Axes>"
            ]
          },
          "metadata": {},
          "output_type": "display_data"
        }
      ],
      "source": [
        "# Number of articles per day\n",
        "plt.figure(figsize=(12, 6))\n",
        "sns.barplot(x=articles_per_day.index, y=articles_per_day.values, palette='Blues_d')\n",
        "plt.xlabel('Day of the Week')\n",
        "plt.ylabel('Number of Articles')\n",
        "plt.title('Number of Articles Published per Day of the Week')\n",
        "plt.xticks(rotation=45)\n",
        "plt.show()"
      ]
    },
    {
      "cell_type": "code",
      "execution_count": null,
      "metadata": {
        "id": "xEoF6TNImpZi",
        "outputId": "87bb86d4-3612-45e6-e04c-30fc616476fa"
      },
      "outputs": [
        {
          "data": {
            "text/plain": [
              "date\n",
              "2009-02-28 00:00:00+00:00     1\n",
              "2009-03-31 00:00:00+00:00     0\n",
              "2009-04-30 00:00:00+00:00     3\n",
              "2009-05-31 00:00:00+00:00    12\n",
              "2009-06-30 00:00:00+00:00    40\n",
              "Freq: ME, dtype: int64"
            ]
          },
          "execution_count": 23,
          "metadata": {},
          "output_type": "execute_result"
        }
      ],
      "source": [
        "monthly_counts = news.resample('ME', on='date').size()\n",
        "monthly_counts.shape\n",
        "monthly_counts.head()\n"
      ]
    },
    {
      "cell_type": "code",
      "execution_count": null,
      "metadata": {
        "id": "xXrM6kBWmpZi",
        "outputId": "bb66f233-83f9-46b2-9dfe-e79388dea3dc"
      },
      "outputs": [
        {
          "data": {
            "image/png": "[encoded data removed]",
            "text/plain": [
              "<Figure size 1200x600 with 1 Axes>"
            ]
          },
          "metadata": {},
          "output_type": "display_data"
        }
      ],
      "source": [
        "\n",
        "\n",
        "plt.figure(figsize=(12, 6))\n",
        "monthly_counts.plot()\n",
        "plt.title('Monthly News Headlines Count')\n",
        "plt.xlabel('Month')\n",
        "plt.ylabel('Number of Headlines')\n",
        "plt.show()"
      ]
    },
    {
      "cell_type": "code",
      "execution_count": null,
      "metadata": {
        "id": "TuW3ZDwVmpZi",
        "outputId": "6b6d27ee-2a99-4e74-e480-cd9cb5a11a45"
      },
      "outputs": [
        {
          "data": {
            "text/plain": [
              "date\n",
              "2009-12-31 00:00:00+00:00     11489\n",
              "2010-12-31 00:00:00+00:00     81319\n",
              "2011-12-31 00:00:00+00:00    131322\n",
              "2012-12-31 00:00:00+00:00    122649\n",
              "2013-12-31 00:00:00+00:00    121529\n",
              "2014-12-31 00:00:00+00:00    134859\n",
              "2015-12-31 00:00:00+00:00    135295\n",
              "2016-12-31 00:00:00+00:00    141892\n",
              "2017-12-31 00:00:00+00:00    124456\n",
              "2018-12-31 00:00:00+00:00    146924\n",
              "2019-12-31 00:00:00+00:00    150380\n",
              "2020-12-31 00:00:00+00:00    105214\n",
              "Freq: YE-DEC, dtype: int64"
            ]
          },
          "execution_count": 36,
          "metadata": {},
          "output_type": "execute_result"
        }
      ],
      "source": [
        "yearly_counts = news.resample('YE', on='date').size()\n",
        "yearly_counts.shape\n",
        "yearly_counts.head(12)\n"
      ]
    },
    {
      "cell_type": "code",
      "execution_count": null,
      "metadata": {
        "id": "9DXLixXDmpZi",
        "outputId": "b1d0725b-cc18-4238-d87d-85381b064158"
      },
      "outputs": [
        {
          "data": {
            "image/png": "[encoded data removed]",
            "text/plain": [
              "<Figure size 1200x600 with 1 Axes>"
            ]
          },
          "metadata": {},
          "output_type": "display_data"
        }
      ],
      "source": [
        "plt.figure(figsize=(12, 6))\n",
        "yearly_counts.plot()\n",
        "plt.title('Yearly News Headlines Count')\n",
        "plt.xlabel('Year')\n",
        "plt.ylabel('Number of Headlines')\n",
        "plt.show()"
      ]
    },
    {
      "cell_type": "code",
      "execution_count": null,
      "metadata": {
        "id": "RZnyoktXmpZi",
        "outputId": "45a54ddd-5a9f-4d9e-d020-a2c52b0a1dc2"
      },
      "outputs": [
        {
          "data": {
            "text/plain": [
              "date\n",
              "2009-03-31 00:00:00+00:00        1\n",
              "2009-06-30 00:00:00+00:00       55\n",
              "2009-09-30 00:00:00+00:00     4731\n",
              "2009-12-31 00:00:00+00:00     6702\n",
              "2010-03-31 00:00:00+00:00    12676\n",
              "Freq: QE-DEC, dtype: int64"
            ]
          },
          "execution_count": 39,
          "metadata": {},
          "output_type": "execute_result"
        }
      ],
      "source": [
        "quarterly_counts = news.resample('QE', on='date').size()\n",
        "quarterly_counts.shape\n",
        "quarterly_counts.head()\n"
      ]
    },
    {
      "cell_type": "code",
      "execution_count": null,
      "metadata": {
        "id": "xYI8BIRampZj",
        "outputId": "f190d192-b740-4246-cac7-5e7f33a730ca"
      },
      "outputs": [
        {
          "data": {
            "image/png": "[encoded data removed]",
            "text/plain": [
              "<Figure size 1200x600 with 1 Axes>"
            ]
          },
          "metadata": {},
          "output_type": "display_data"
        }
      ],
      "source": [
        "plt.figure(figsize=(12, 6))\n",
        "quarterly_counts.plot()\n",
        "plt.title('Quarterly News Headlines Count')\n",
        "plt.xlabel('Quarter')\n",
        "plt.ylabel('Number of Headlines')\n",
        "plt.show()"
      ]
    },
    {
      "cell_type": "markdown",
      "metadata": {
        "id": "b9PDQn7LmpZj"
      },
      "source": [
        "### Publisher Analysis"
      ]
    },
    {
      "cell_type": "code",
      "execution_count": null,
      "metadata": {
        "id": "7zX0HeCmmpZj",
        "outputId": "1232e1d8-d7f4-4630-f4db-0169630c166c"
      },
      "outputs": [
        {
          "name": "stdout",
          "output_type": "stream",
          "text": [
            "Publisher(s) with the maximum number of headlines:\n",
            "         publisher  headline_count\n",
            "686  Paul Quintaro          228373\n",
            "\n",
            "Publisher(s) with the minimum number of headlines:\n",
            "                       publisher  headline_count\n",
            "15                   Adam Weiner               1\n",
            "22                   Alex Roslin               1\n",
            "26               Alexander Voigt               1\n",
            "33                  Allan Farley               1\n",
            "36                   Alpha Works               1\n",
            "...                          ...             ...\n",
            "1004    official@stockmetrix.net               1\n",
            "1008                 pagetraffic               1\n",
            "1012                        phil               1\n",
            "1023                   swenstock               1\n",
            "1029  vic@forextraininggroup.com               1\n",
            "\n",
            "[161 rows x 2 columns]\n"
          ]
        }
      ],
      "source": [
        "# Maximum and Minimum number of headlines publishers\n",
        "# Count the number of headlines per publisher\n",
        "articles_per_publisher = news.groupby('publisher').size().reset_index(name='headline_count')\n",
        "\n",
        "# Find the maximum and minimum headline counts\n",
        "max_headlines = articles_per_publisher['headline_count'].max()\n",
        "min_headlines = articles_per_publisher['headline_count'].min()\n",
        "\n",
        "# Get the publishers with max and min counts\n",
        "max_publishers = articles_per_publisher[articles_per_publisher['headline_count'] == max_headlines]\n",
        "min_publishers = articles_per_publisher[articles_per_publisher['headline_count'] == min_headlines]\n",
        "\n",
        "# Display the results\n",
        "print(\"Publisher(s) with the maximum number of headlines:\")\n",
        "print(max_publishers)\n",
        "\n",
        "print(\"\\nPublisher(s) with the minimum number of headlines:\")\n",
        "print(min_publishers)"
      ]
    },
    {
      "cell_type": "code",
      "execution_count": null,
      "metadata": {
        "id": "y5FOYi9GmpZj",
        "outputId": "522c0454-4fdb-4dd6-ea66-3924ac1c99f1"
      },
      "outputs": [
        {
          "name": "stdout",
          "output_type": "stream",
          "text": [
            "             publisher  headline_count\n",
            "686      Paul Quintaro          228373\n",
            "532         Lisa Levin          186979\n",
            "96   Benzinga Newsdesk          150484\n",
            "169      Charles Gross           96732\n",
            "622      Monica Gerson           82380\n",
            "275       Eddie Staley           57254\n",
            "353         Hal Lindon           49047\n",
            "270      ETF Professor           28489\n",
            "478         Juan Lopez           28438\n",
            "98      Benzinga Staff           28114\n"
          ]
        }
      ],
      "source": [
        "# Sort in descending order to find top contributors\n",
        "top_publishers = articles_per_publisher.sort_values(by='headline_count', ascending=False)\n",
        "\n",
        "# Display the top publishers\n",
        "print(top_publishers.head(10))  # Adjust the number as needed"
      ]
    },
    {
      "cell_type": "code",
      "execution_count": null,
      "metadata": {
        "id": "ArZZ-aDWmpZj",
        "outputId": "18fecba2-d64e-4e5f-ac88-e4bcbf0b0d92"
      },
      "outputs": [
        {
          "data": {
            "image/png": "[encoded data removed]",
            "text/plain": [
              "<Figure size 1200x600 with 1 Axes>"
            ]
          },
          "metadata": {},
          "output_type": "display_data"
        }
      ],
      "source": [
        "# the top 10 publishers\n",
        "top_n = articles_per_publisher.nlargest(10, 'headline_count')\n",
        "\n",
        "# Plotting\n",
        "import matplotlib.pyplot as plt\n",
        "\n",
        "plt.figure(figsize=(12, 6))\n",
        "plt.bar(top_n['publisher'], top_n['headline_count'], color='skyblue')\n",
        "plt.xlabel('Publisher')\n",
        "plt.ylabel('Number of Headlines')\n",
        "plt.title('Top 10 Publishers by Number of Headlines')\n",
        "plt.xticks(rotation=45)\n",
        "plt.tight_layout()\n",
        "plt.show()"
      ]
    },
    {
      "cell_type": "code",
      "execution_count": null,
      "metadata": {
        "id": "_LL_7D3vmpZj"
      },
      "outputs": [],
      "source": []
    },
    {
      "cell_type": "code",
      "execution_count": null,
      "metadata": {
        "id": "cZIIYgQympZj"
      },
      "outputs": [],
      "source": []
    },
    {
      "cell_type": "markdown",
      "metadata": {
        "id": "sDCHI7EtmpZk"
      },
      "source": [
        "### Sentiment Analysis"
      ]
    },
    {
      "cell_type": "code",
      "execution_count": null,
      "metadata": {
        "id": "6w4i54vhmpZk",
        "outputId": "63631af7-65de-496d-a419-6291e0a09b8f"
      },
      "outputs": [
        {
          "data": {
            "text/plain": [
              "[('to', 278059),\n",
              " ('of', 200237),\n",
              " ('Stocks', 155196),\n",
              " ('For', 154330),\n",
              " ('on', 143732),\n",
              " ('vs', 130104),\n",
              " ('In', 129558),\n",
              " ('EPS', 127298),\n",
              " ('To', 124268),\n",
              " ('The', 120684),\n",
              " ('Reports', 107394),\n",
              " ('On', 100424),\n",
              " ('Shares', 97694),\n",
              " ('in', 89981),\n",
              " ('the', 89228),\n",
              " ('for', 84003),\n",
              " ('Market', 82475),\n",
              " ('Earnings', 78837),\n",
              " ('Top', 77783),\n",
              " ('Sales', 72879)]"
            ]
          },
          "execution_count": 67,
          "metadata": {},
          "output_type": "execute_result"
        }
      ],
      "source": [
        "all_words = ' '.join(news['headline']).split()\n",
        "#stop_words =\n",
        "common_words = Counter(all_words).most_common(20)\n",
        "common_words"
      ]
    },
    {
      "cell_type": "code",
      "execution_count": 6,
      "metadata": {
        "id": "1JV-7Cq8mpZk"
      },
      "outputs": [],
      "source": [
        "news['sentiment'] = news['headline'].apply(lambda x: TextBlob(x).sentiment.polarity)\n",
        "sentiment_trend = news.groupby(news['date'].dt.date)['sentiment'].mean()"
      ]
    },
    {
      "cell_type": "code",
      "execution_count": 12,
      "metadata": {
        "colab": {
          "base_uri": "https://localhost:8080/",
          "height": 490
        },
        "id": "sQJiExD7pXM3",
        "outputId": "a0e55bc6-6846-4e64-b920-4fffb4877311"
      },
      "outputs": [
        {
          "data": {
            "text/html": [
              "<div>\n",
              "<style scoped>\n",
              "    .dataframe tbody tr th:only-of-type {\n",
              "        vertical-align: middle;\n",
              "    }\n",
              "\n",
              "    .dataframe tbody tr th {\n",
              "        vertical-align: top;\n",
              "    }\n",
              "\n",
              "    .dataframe thead th {\n",
              "        text-align: right;\n",
              "    }\n",
              "</style>\n",
              "<table border=\"1\" class=\"dataframe\">\n",
              "  <thead>\n",
              "    <tr style=\"text-align: right;\">\n",
              "      <th></th>\n",
              "      <th>sentiment</th>\n",
              "    </tr>\n",
              "    <tr>\n",
              "      <th>date</th>\n",
              "      <th></th>\n",
              "    </tr>\n",
              "  </thead>\n",
              "  <tbody>\n",
              "    <tr>\n",
              "      <th>2009-02-14</th>\n",
              "      <td>0.000000</td>\n",
              "    </tr>\n",
              "    <tr>\n",
              "      <th>2009-04-27</th>\n",
              "      <td>0.000000</td>\n",
              "    </tr>\n",
              "    <tr>\n",
              "      <th>2009-04-29</th>\n",
              "      <td>0.000000</td>\n",
              "    </tr>\n",
              "    <tr>\n",
              "      <th>2009-05-22</th>\n",
              "      <td>0.000000</td>\n",
              "    </tr>\n",
              "    <tr>\n",
              "      <th>2009-05-27</th>\n",
              "      <td>0.234091</td>\n",
              "    </tr>\n",
              "    <tr>\n",
              "      <th>...</th>\n",
              "      <td>...</td>\n",
              "    </tr>\n",
              "    <tr>\n",
              "      <th>2020-06-07</th>\n",
              "      <td>0.034242</td>\n",
              "    </tr>\n",
              "    <tr>\n",
              "      <th>2020-06-08</th>\n",
              "      <td>0.059971</td>\n",
              "    </tr>\n",
              "    <tr>\n",
              "      <th>2020-06-09</th>\n",
              "      <td>0.018360</td>\n",
              "    </tr>\n",
              "    <tr>\n",
              "      <th>2020-06-10</th>\n",
              "      <td>-0.009165</td>\n",
              "    </tr>\n",
              "    <tr>\n",
              "      <th>2020-06-11</th>\n",
              "      <td>0.007162</td>\n",
              "    </tr>\n",
              "  </tbody>\n",
              "</table>\n",
              "<p>3955 rows × 1 columns</p>\n",
              "</div><br><label><b>dtype:</b> float64</label>"
            ],
            "text/plain": [
              "date\n",
              "2009-02-14    0.000000\n",
              "2009-04-27    0.000000\n",
              "2009-04-29    0.000000\n",
              "2009-05-22    0.000000\n",
              "2009-05-27    0.234091\n",
              "                ...   \n",
              "2020-06-07    0.034242\n",
              "2020-06-08    0.059971\n",
              "2020-06-09    0.018360\n",
              "2020-06-10   -0.009165\n",
              "2020-06-11    0.007162\n",
              "Name: sentiment, Length: 3955, dtype: float64"
            ]
          },
          "execution_count": 12,
          "metadata": {},
          "output_type": "execute_result"
        }
      ],
      "source": [
        "sentiment_trend"
      ]
    },
    {
      "cell_type": "code",
      "execution_count": 11,
      "metadata": {
        "colab": {
          "base_uri": "https://localhost:8080/",
          "height": 206
        },
        "id": "WyCl0dqNmpZk",
        "outputId": "aabe48bf-8589-4ff8-f79e-6d44ccbb98ad"
      },
      "outputs": [
        {
          "data": {
            "application/vnd.google.colaboratory.intrinsic+json": {
              "type": "dataframe",
              "variable_name": "news"
            },
            "text/html": [
              "\n",
              "  <div id=\"df-4bc92d21-2eb5-4666-9274-0e3d84e5b411\" class=\"colab-df-container\">\n",
              "    <div>\n",
              "<style scoped>\n",
              "    .dataframe tbody tr th:only-of-type {\n",
              "        vertical-align: middle;\n",
              "    }\n",
              "\n",
              "    .dataframe tbody tr th {\n",
              "        vertical-align: top;\n",
              "    }\n",
              "\n",
              "    .dataframe thead th {\n",
              "        text-align: right;\n",
              "    }\n",
              "</style>\n",
              "<table border=\"1\" class=\"dataframe\">\n",
              "  <thead>\n",
              "    <tr style=\"text-align: right;\">\n",
              "      <th></th>\n",
              "      <th>headline</th>\n",
              "      <th>url</th>\n",
              "      <th>publisher</th>\n",
              "      <th>date</th>\n",
              "      <th>stock</th>\n",
              "      <th>sentiment</th>\n",
              "    </tr>\n",
              "  </thead>\n",
              "  <tbody>\n",
              "    <tr>\n",
              "      <th>0</th>\n",
              "      <td>Stocks That Hit 52-Week Highs On Friday</td>\n",
              "      <td>https://www.benzinga.com/news/20/06/16190091/s...</td>\n",
              "      <td>Benzinga Insights</td>\n",
              "      <td>2020-06-05 14:30:54+00:00</td>\n",
              "      <td>A</td>\n",
              "      <td>0.0</td>\n",
              "    </tr>\n",
              "    <tr>\n",
              "      <th>1</th>\n",
              "      <td>Stocks That Hit 52-Week Highs On Wednesday</td>\n",
              "      <td>https://www.benzinga.com/news/20/06/16170189/s...</td>\n",
              "      <td>Benzinga Insights</td>\n",
              "      <td>2020-06-03 14:45:20+00:00</td>\n",
              "      <td>A</td>\n",
              "      <td>0.0</td>\n",
              "    </tr>\n",
              "    <tr>\n",
              "      <th>2</th>\n",
              "      <td>71 Biggest Movers From Friday</td>\n",
              "      <td>https://www.benzinga.com/news/20/05/16103463/7...</td>\n",
              "      <td>Lisa Levin</td>\n",
              "      <td>2020-05-26 08:30:07+00:00</td>\n",
              "      <td>A</td>\n",
              "      <td>0.0</td>\n",
              "    </tr>\n",
              "    <tr>\n",
              "      <th>3</th>\n",
              "      <td>46 Stocks Moving In Friday's Mid-Day Session</td>\n",
              "      <td>https://www.benzinga.com/news/20/05/16095921/4...</td>\n",
              "      <td>Lisa Levin</td>\n",
              "      <td>2020-05-22 16:45:06+00:00</td>\n",
              "      <td>A</td>\n",
              "      <td>0.0</td>\n",
              "    </tr>\n",
              "    <tr>\n",
              "      <th>4</th>\n",
              "      <td>B of A Securities Maintains Neutral on Agilent...</td>\n",
              "      <td>https://www.benzinga.com/news/20/05/16095304/b...</td>\n",
              "      <td>Vick Meyer</td>\n",
              "      <td>2020-05-22 15:38:59+00:00</td>\n",
              "      <td>A</td>\n",
              "      <td>0.0</td>\n",
              "    </tr>\n",
              "  </tbody>\n",
              "</table>\n",
              "</div>\n",
              "    <div class=\"colab-df-buttons\">\n",
              "\n",
              "  <div class=\"colab-df-container\">\n",
              "    <button class=\"colab-df-convert\" onclick=\"convertToInteractive('df-4bc92d21-2eb5-4666-9274-0e3d84e5b411')\"\n",
              "            title=\"Convert this dataframe to an interactive table.\"\n",
              "            style=\"display:none;\">\n",
              "\n",
              "  <svg xmlns=\"http://www.w3.org/2000/svg\" height=\"24px\" viewBox=\"0 -960 960 960\">\n",
              "    <path d=\"M120-120v-720h720v720H120Zm60-500h600v-160H180v160Zm220 220h160v-160H400v160Zm0 220h160v-160H400v160ZM180-400h160v-160H180v160Zm440 0h160v-160H620v160ZM180-180h160v-160H180v160Zm440 0h160v-160H620v160Z\"/>\n",
              "  </svg>\n",
              "    </button>\n",
              "\n",
              "  <style>\n",
              "    .colab-df-container {\n",
              "      display:flex;\n",
              "      gap: 12px;\n",
              "    }\n",
              "\n",
              "    .colab-df-convert {\n",
              "      background-color: #E8F0FE;\n",
              "      border: none;\n",
              "      border-radius: 50%;\n",
              "      cursor: pointer;\n",
              "      display: none;\n",
              "      fill: #1967D2;\n",
              "      height: 32px;\n",
              "      padding: 0 0 0 0;\n",
              "      width: 32px;\n",
              "    }\n",
              "\n",
              "    .colab-df-convert:hover {\n",
              "      background-color: #E2EBFA;\n",
              "      box-shadow: 0px 1px 2px rgba(60, 64, 67, 0.3), 0px 1px 3px 1px rgba(60, 64, 67, 0.15);\n",
              "      fill: #174EA6;\n",
              "    }\n",
              "\n",
              "    .colab-df-buttons div {\n",
              "      margin-bottom: 4px;\n",
              "    }\n",
              "\n",
              "    [theme=dark] .colab-df-convert {\n",
              "      background-color: #3B4455;\n",
              "      fill: #D2E3FC;\n",
              "    }\n",
              "\n",
              "    [theme=dark] .colab-df-convert:hover {\n",
              "      background-color: #434B5C;\n",
              "      box-shadow: 0px 1px 3px 1px rgba(0, 0, 0, 0.15);\n",
              "      filter: drop-shadow(0px 1px 2px rgba(0, 0, 0, 0.3));\n",
              "      fill: #FFFFFF;\n",
              "    }\n",
              "  </style>\n",
              "\n",
              "    <script>\n",
              "      const buttonEl =\n",
              "        document.querySelector('#df-4bc92d21-2eb5-4666-9274-0e3d84e5b411 button.colab-df-convert');\n",
              "      buttonEl.style.display =\n",
              "        google.colab.kernel.accessAllowed ? 'block' : 'none';\n",
              "\n",
              "      async function convertToInteractive(key) {\n",
              "        const element = document.querySelector('#df-4bc92d21-2eb5-4666-9274-0e3d84e5b411');\n",
              "        const dataTable =\n",
              "          await google.colab.kernel.invokeFunction('convertToInteractive',\n",
              "                                                    [key], {});\n",
              "        if (!dataTable) return;\n",
              "\n",
              "        const docLinkHtml = 'Like what you see? Visit the ' +\n",
              "          '<a target=\"_blank\" href=https://colab.research.google.com/notebooks/data_table.ipynb>data table notebook</a>'\n",
              "          + ' to learn more about interactive tables.';\n",
              "        element.innerHTML = '';\n",
              "        dataTable['output_type'] = 'display_data';\n",
              "        await google.colab.output.renderOutput(dataTable, element);\n",
              "        const docLink = document.createElement('div');\n",
              "        docLink.innerHTML = docLinkHtml;\n",
              "        element.appendChild(docLink);\n",
              "      }\n",
              "    </script>\n",
              "  </div>\n",
              "\n",
              "\n",
              "<div id=\"df-9c2e2ff3-8a05-404c-902a-0302582a5006\">\n",
              "  <button class=\"colab-df-quickchart\" onclick=\"quickchart('df-9c2e2ff3-8a05-404c-902a-0302582a5006')\"\n",
              "            title=\"Suggest charts\"\n",
              "            style=\"display:none;\">\n",
              "\n",
              "<svg xmlns=\"http://www.w3.org/2000/svg\" height=\"24px\"viewBox=\"0 0 24 24\"\n",
              "     width=\"24px\">\n",
              "    <g>\n",
              "        <path d=\"M19 3H5c-1.1 0-2 .9-2 2v14c0 1.1.9 2 2 2h14c1.1 0 2-.9 2-2V5c0-1.1-.9-2-2-2zM9 17H7v-7h2v7zm4 0h-2V7h2v10zm4 0h-2v-4h2v4z\"/>\n",
              "    </g>\n",
              "</svg>\n",
              "  </button>\n",
              "\n",
              "<style>\n",
              "  .colab-df-quickchart {\n",
              "      --bg-color: #E8F0FE;\n",
              "      --fill-color: #1967D2;\n",
              "      --hover-bg-color: #E2EBFA;\n",
              "      --hover-fill-color: #174EA6;\n",
              "      --disabled-fill-color: #AAA;\n",
              "      --disabled-bg-color: #DDD;\n",
              "  }\n",
              "\n",
              "  [theme=dark] .colab-df-quickchart {\n",
              "      --bg-color: #3B4455;\n",
              "      --fill-color: #D2E3FC;\n",
              "      --hover-bg-color: #434B5C;\n",
              "      --hover-fill-color: #FFFFFF;\n",
              "      --disabled-bg-color: #3B4455;\n",
              "      --disabled-fill-color: #666;\n",
              "  }\n",
              "\n",
              "  .colab-df-quickchart {\n",
              "    background-color: var(--bg-color);\n",
              "    border: none;\n",
              "    border-radius: 50%;\n",
              "    cursor: pointer;\n",
              "    display: none;\n",
              "    fill: var(--fill-color);\n",
              "    height: 32px;\n",
              "    padding: 0;\n",
              "    width: 32px;\n",
              "  }\n",
              "\n",
              "  .colab-df-quickchart:hover {\n",
              "    background-color: var(--hover-bg-color);\n",
              "    box-shadow: 0 1px 2px rgba(60, 64, 67, 0.3), 0 1px 3px 1px rgba(60, 64, 67, 0.15);\n",
              "    fill: var(--button-hover-fill-color);\n",
              "  }\n",
              "\n",
              "  .colab-df-quickchart-complete:disabled,\n",
              "  .colab-df-quickchart-complete:disabled:hover {\n",
              "    background-color: var(--disabled-bg-color);\n",
              "    fill: var(--disabled-fill-color);\n",
              "    box-shadow: none;\n",
              "  }\n",
              "\n",
              "  .colab-df-spinner {\n",
              "    border: 2px solid var(--fill-color);\n",
              "    border-color: transparent;\n",
              "    border-bottom-color: var(--fill-color);\n",
              "    animation:\n",
              "      spin 1s steps(1) infinite;\n",
              "  }\n",
              "\n",
              "  @keyframes spin {\n",
              "    0% {\n",
              "      border-color: transparent;\n",
              "      border-bottom-color: var(--fill-color);\n",
              "      border-left-color: var(--fill-color);\n",
              "    }\n",
              "    20% {\n",
              "      border-color: transparent;\n",
              "      border-left-color: var(--fill-color);\n",
              "      border-top-color: var(--fill-color);\n",
              "    }\n",
              "    30% {\n",
              "      border-color: transparent;\n",
              "      border-left-color: var(--fill-color);\n",
              "      border-top-color: var(--fill-color);\n",
              "      border-right-color: var(--fill-color);\n",
              "    }\n",
              "    40% {\n",
              "      border-color: transparent;\n",
              "      border-right-color: var(--fill-color);\n",
              "      border-top-color: var(--fill-color);\n",
              "    }\n",
              "    60% {\n",
              "      border-color: transparent;\n",
              "      border-right-color: var(--fill-color);\n",
              "    }\n",
              "    80% {\n",
              "      border-color: transparent;\n",
              "      border-right-color: var(--fill-color);\n",
              "      border-bottom-color: var(--fill-color);\n",
              "    }\n",
              "    90% {\n",
              "      border-color: transparent;\n",
              "      border-bottom-color: var(--fill-color);\n",
              "    }\n",
              "  }\n",
              "</style>\n",
              "\n",
              "  <script>\n",
              "    async function quickchart(key) {\n",
              "      const quickchartButtonEl =\n",
              "        document.querySelector('#' + key + ' button');\n",
              "      quickchartButtonEl.disabled = true;  // To prevent multiple clicks.\n",
              "      quickchartButtonEl.classList.add('colab-df-spinner');\n",
              "      try {\n",
              "        const charts = await google.colab.kernel.invokeFunction(\n",
              "            'suggestCharts', [key], {});\n",
              "      } catch (error) {\n",
              "        console.error('Error during call to suggestCharts:', error);\n",
              "      }\n",
              "      quickchartButtonEl.classList.remove('colab-df-spinner');\n",
              "      quickchartButtonEl.classList.add('colab-df-quickchart-complete');\n",
              "    }\n",
              "    (() => {\n",
              "      let quickchartButtonEl =\n",
              "        document.querySelector('#df-9c2e2ff3-8a05-404c-902a-0302582a5006 button');\n",
              "      quickchartButtonEl.style.display =\n",
              "        google.colab.kernel.accessAllowed ? 'block' : 'none';\n",
              "    })();\n",
              "  </script>\n",
              "</div>\n",
              "\n",
              "    </div>\n",
              "  </div>\n"
            ],
            "text/plain": [
              "                                            headline  \\\n",
              "0            Stocks That Hit 52-Week Highs On Friday   \n",
              "1         Stocks That Hit 52-Week Highs On Wednesday   \n",
              "2                      71 Biggest Movers From Friday   \n",
              "3       46 Stocks Moving In Friday's Mid-Day Session   \n",
              "4  B of A Securities Maintains Neutral on Agilent...   \n",
              "\n",
              "                                                 url          publisher  \\\n",
              "0  https://www.benzinga.com/news/20/06/16190091/s...  Benzinga Insights   \n",
              "1  https://www.benzinga.com/news/20/06/16170189/s...  Benzinga Insights   \n",
              "2  https://www.benzinga.com/news/20/05/16103463/7...         Lisa Levin   \n",
              "3  https://www.benzinga.com/news/20/05/16095921/4...         Lisa Levin   \n",
              "4  https://www.benzinga.com/news/20/05/16095304/b...         Vick Meyer   \n",
              "\n",
              "                       date stock  sentiment  \n",
              "0 2020-06-05 14:30:54+00:00     A        0.0  \n",
              "1 2020-06-03 14:45:20+00:00     A        0.0  \n",
              "2 2020-05-26 08:30:07+00:00     A        0.0  \n",
              "3 2020-05-22 16:45:06+00:00     A        0.0  \n",
              "4 2020-05-22 15:38:59+00:00     A        0.0  "
            ]
          },
          "execution_count": 11,
          "metadata": {},
          "output_type": "execute_result"
        }
      ],
      "source": [
        "news.head()"
      ]
    },
    {
      "cell_type": "code",
      "execution_count": 7,
      "metadata": {
        "id": "J5Bi8xXHp5o0"
      },
      "outputs": [],
      "source": [
        "sentiment_data = news.copy()"
      ]
    },
    {
      "cell_type": "code",
      "execution_count": 8,
      "metadata": {
        "colab": {
          "base_uri": "https://localhost:8080/",
          "height": 206
        },
        "id": "zqIkIXUdmpZk",
        "outputId": "354d525e-c877-49f6-e0dc-8ea650f01192"
      },
      "outputs": [
        {
          "data": {
            "text/html": [
              "<div>\n",
              "<style scoped>\n",
              "    .dataframe tbody tr th:only-of-type {\n",
              "        vertical-align: middle;\n",
              "    }\n",
              "\n",
              "    .dataframe tbody tr th {\n",
              "        vertical-align: top;\n",
              "    }\n",
              "\n",
              "    .dataframe thead th {\n",
              "        text-align: right;\n",
              "    }\n",
              "</style>\n",
              "<table border=\"1\" class=\"dataframe\">\n",
              "  <thead>\n",
              "    <tr style=\"text-align: right;\">\n",
              "      <th></th>\n",
              "      <th>headline</th>\n",
              "      <th>url</th>\n",
              "      <th>publisher</th>\n",
              "      <th>date</th>\n",
              "      <th>stock</th>\n",
              "      <th>sentiment</th>\n",
              "      <th>sentiment_category</th>\n",
              "    </tr>\n",
              "  </thead>\n",
              "  <tbody>\n",
              "    <tr>\n",
              "      <th>0</th>\n",
              "      <td>Stocks That Hit 52-Week Highs On Friday</td>\n",
              "      <td>https://www.benzinga.com/news/20/06/16190091/s...</td>\n",
              "      <td>Benzinga Insights</td>\n",
              "      <td>2020-06-05 14:30:54+00:00</td>\n",
              "      <td>A</td>\n",
              "      <td>0.0</td>\n",
              "      <td>Neutral</td>\n",
              "    </tr>\n",
              "    <tr>\n",
              "      <th>1</th>\n",
              "      <td>Stocks That Hit 52-Week Highs On Wednesday</td>\n",
              "      <td>https://www.benzinga.com/news/20/06/16170189/s...</td>\n",
              "      <td>Benzinga Insights</td>\n",
              "      <td>2020-06-03 14:45:20+00:00</td>\n",
              "      <td>A</td>\n",
              "      <td>0.0</td>\n",
              "      <td>Neutral</td>\n",
              "    </tr>\n",
              "    <tr>\n",
              "      <th>2</th>\n",
              "      <td>71 Biggest Movers From Friday</td>\n",
              "      <td>https://www.benzinga.com/news/20/05/16103463/7...</td>\n",
              "      <td>Lisa Levin</td>\n",
              "      <td>2020-05-26 08:30:07+00:00</td>\n",
              "      <td>A</td>\n",
              "      <td>0.0</td>\n",
              "      <td>Neutral</td>\n",
              "    </tr>\n",
              "    <tr>\n",
              "      <th>3</th>\n",
              "      <td>46 Stocks Moving In Friday's Mid-Day Session</td>\n",
              "      <td>https://www.benzinga.com/news/20/05/16095921/4...</td>\n",
              "      <td>Lisa Levin</td>\n",
              "      <td>2020-05-22 16:45:06+00:00</td>\n",
              "      <td>A</td>\n",
              "      <td>0.0</td>\n",
              "      <td>Neutral</td>\n",
              "    </tr>\n",
              "    <tr>\n",
              "      <th>4</th>\n",
              "      <td>B of A Securities Maintains Neutral on Agilent...</td>\n",
              "      <td>https://www.benzinga.com/news/20/05/16095304/b...</td>\n",
              "      <td>Vick Meyer</td>\n",
              "      <td>2020-05-22 15:38:59+00:00</td>\n",
              "      <td>A</td>\n",
              "      <td>0.0</td>\n",
              "      <td>Neutral</td>\n",
              "    </tr>\n",
              "  </tbody>\n",
              "</table>\n",
              "</div>"
            ],
            "text/plain": [
              "                                            headline  \\\n",
              "0            Stocks That Hit 52-Week Highs On Friday   \n",
              "1         Stocks That Hit 52-Week Highs On Wednesday   \n",
              "2                      71 Biggest Movers From Friday   \n",
              "3       46 Stocks Moving In Friday's Mid-Day Session   \n",
              "4  B of A Securities Maintains Neutral on Agilent...   \n",
              "\n",
              "                                                 url          publisher  \\\n",
              "0  https://www.benzinga.com/news/20/06/16190091/s...  Benzinga Insights   \n",
              "1  https://www.benzinga.com/news/20/06/16170189/s...  Benzinga Insights   \n",
              "2  https://www.benzinga.com/news/20/05/16103463/7...         Lisa Levin   \n",
              "3  https://www.benzinga.com/news/20/05/16095921/4...         Lisa Levin   \n",
              "4  https://www.benzinga.com/news/20/05/16095304/b...         Vick Meyer   \n",
              "\n",
              "                       date stock  sentiment sentiment_category  \n",
              "0 2020-06-05 14:30:54+00:00     A        0.0            Neutral  \n",
              "1 2020-06-03 14:45:20+00:00     A        0.0            Neutral  \n",
              "2 2020-05-26 08:30:07+00:00     A        0.0            Neutral  \n",
              "3 2020-05-22 16:45:06+00:00     A        0.0            Neutral  \n",
              "4 2020-05-22 15:38:59+00:00     A        0.0            Neutral  "
            ]
          },
          "execution_count": 8,
          "metadata": {},
          "output_type": "execute_result"
        }
      ],
      "source": [
        "sentiment_data['sentiment_category'] = pd.cut(sentiment_data['sentiment'], bins=[-1, -0.1, 0.1, 1], labels=['Negative', 'Neutral', 'Positive'])\n",
        "sentiment_data.head()\n"
      ]
    },
    {
      "cell_type": "code",
      "execution_count": 11,
      "metadata": {
        "id": "9iuxy1eWrZqT"
      },
      "outputs": [
        {
          "data": {
            "text/plain": [
              "sentiment_category\n",
              "Neutral     1038528\n",
              "Positive     269878\n",
              "Negative      96445\n",
              "Name: count, dtype: int64"
            ]
          },
          "execution_count": 11,
          "metadata": {},
          "output_type": "execute_result"
        }
      ],
      "source": [
        "category_counts = sentiment_data['sentiment_category'].value_counts()\n",
        "category_counts"
      ]
    },
    {
      "cell_type": "code",
      "execution_count": 17,
      "metadata": {
        "colab": {
          "base_uri": "https://localhost:8080/",
          "height": 521
        },
        "id": "yuOl3rX0rZsv",
        "outputId": "e686e608-f697-4bee-e756-695f8a35b1a9"
      },
      "outputs": [
        {
          "data": {
            "image/png": "[encoded data removed]",
            "text/plain": [
              "<Figure size 800x600 with 1 Axes>"
            ]
          },
          "metadata": {},
          "output_type": "display_data"
        }
      ],
      "source": [
        "# Plotting the pie chart\n",
        "plt.figure(figsize=(8, 6))\n",
        "plt.pie(category_counts, labels=category_counts.index, autopct='%1.1f%%', startangle=90)\n",
        "plt.title('Sentiment Distribution')\n",
        "plt.axis('equal')  # Equal aspect ratio ensures the pie chart is circular.\n",
        "plt.show()"
      ]
    },
    {
      "cell_type": "markdown",
      "metadata": {
        "id": "x4thbG4ftRxQ"
      },
      "source": [
        "- Topic Analysis"
      ]
    },
    {
      "cell_type": "code",
      "execution_count": 2,
      "metadata": {
        "colab": {
          "base_uri": "https://localhost:8080/"
        },
        "id": "ArDlXHDYrZwP",
        "outputId": "2b604888-28d9-44e1-ca40-03bcdda6ce7f"
      },
      "outputs": [
        {
          "name": "stderr",
          "output_type": "stream",
          "text": [
            "[nltk_data] Downloading package punkt to /root/nltk_data...\n",
            "[nltk_data]   Unzipping tokenizers/punkt.zip.\n",
            "[nltk_data] Downloading package stopwords to /root/nltk_data...\n",
            "[nltk_data]   Unzipping corpora/stopwords.zip.\n"
          ]
        },
        {
          "data": {
            "text/plain": [
              "True"
            ]
          },
          "execution_count": 2,
          "metadata": {},
          "output_type": "execute_result"
        }
      ],
      "source": [
        "nltk.download('punkt')\n",
        "nltk.download('stopwords')"
      ]
    },
    {
      "cell_type": "code",
      "execution_count": 7,
      "metadata": {
        "id": "apoXb2bYtQwo"
      },
      "outputs": [],
      "source": [
        "# Combine all headlines into a single string\n",
        "all_headlines = ' '.join(news[\"headline\"].astype(str).tolist())\n",
        "\n",
        "# Tokenize the text\n",
        "tokens = word_tokenize(all_headlines.lower())\n",
        "\n",
        "# Remove stopwords\n",
        "stop_words = set(stopwords.words('english'))\n",
        "filtered_tokens = [word for word in tokens if word.isalnum() and word not in stop_words]"
      ]
    },
    {
      "cell_type": "code",
      "execution_count": 8,
      "metadata": {
        "id": "457ijJkDtQzE"
      },
      "outputs": [],
      "source": [
        "freq_dist = FreqDist(filtered_tokens)"
      ]
    },
    {
      "cell_type": "code",
      "execution_count": 11,
      "metadata": {
        "colab": {
          "base_uri": "https://localhost:8080/"
        },
        "id": "4ZiexIjItQ2c",
        "outputId": "d4eb0b1d-fa07-45d0-c8fb-5a98b2d91b5d"
      },
      "outputs": [
        {
          "name": "stdout",
          "output_type": "stream",
          "text": [
            "[('stocks', 161702), ('vs', 138833), ('eps', 128801), ('est', 122289), ('shares', 114140), ('reports', 108688), ('update', 91645), ('market', 91080), ('earnings', 87183), ('sales', 79528), ('top', 78493), ('benzinga', 74466), ('pt', 73059), ('announces', 66531), ('price', 64217), ('buy', 63927), ('downgrades', 61942), ('trading', 61146), ('raises', 57793), ('upgrades', 56802)]\n"
          ]
        }
      ],
      "source": [
        "# Get the 20 most common words\n",
        "common_topics = freq_dist.most_common(20)\n",
        "print(common_topics)"
      ]
    },
    {
      "cell_type": "markdown",
      "metadata": {},
      "source": [
        "###  data preprocessing for task-3"
      ]
    },
    {
      "cell_type": "code",
      "execution_count": 9,
      "metadata": {
        "id": "06Vv4J3pmpZk"
      },
      "outputs": [
        {
          "data": {
            "text/html": [
              "<div>\n",
              "<style scoped>\n",
              "    .dataframe tbody tr th:only-of-type {\n",
              "        vertical-align: middle;\n",
              "    }\n",
              "\n",
              "    .dataframe tbody tr th {\n",
              "        vertical-align: top;\n",
              "    }\n",
              "\n",
              "    .dataframe thead th {\n",
              "        text-align: right;\n",
              "    }\n",
              "</style>\n",
              "<table border=\"1\" class=\"dataframe\">\n",
              "  <thead>\n",
              "    <tr style=\"text-align: right;\">\n",
              "      <th></th>\n",
              "      <th>headline</th>\n",
              "      <th>date</th>\n",
              "      <th>stock</th>\n",
              "      <th>sentiment</th>\n",
              "    </tr>\n",
              "  </thead>\n",
              "  <tbody>\n",
              "    <tr>\n",
              "      <th>0</th>\n",
              "      <td>Stocks That Hit 52-Week Highs On Friday</td>\n",
              "      <td>2020-06-05 14:30:54+00:00</td>\n",
              "      <td>A</td>\n",
              "      <td>0.0</td>\n",
              "    </tr>\n",
              "    <tr>\n",
              "      <th>1</th>\n",
              "      <td>Stocks That Hit 52-Week Highs On Wednesday</td>\n",
              "      <td>2020-06-03 14:45:20+00:00</td>\n",
              "      <td>A</td>\n",
              "      <td>0.0</td>\n",
              "    </tr>\n",
              "    <tr>\n",
              "      <th>2</th>\n",
              "      <td>71 Biggest Movers From Friday</td>\n",
              "      <td>2020-05-26 08:30:07+00:00</td>\n",
              "      <td>A</td>\n",
              "      <td>0.0</td>\n",
              "    </tr>\n",
              "    <tr>\n",
              "      <th>3</th>\n",
              "      <td>46 Stocks Moving In Friday's Mid-Day Session</td>\n",
              "      <td>2020-05-22 16:45:06+00:00</td>\n",
              "      <td>A</td>\n",
              "      <td>0.0</td>\n",
              "    </tr>\n",
              "    <tr>\n",
              "      <th>4</th>\n",
              "      <td>B of A Securities Maintains Neutral on Agilent...</td>\n",
              "      <td>2020-05-22 15:38:59+00:00</td>\n",
              "      <td>A</td>\n",
              "      <td>0.0</td>\n",
              "    </tr>\n",
              "  </tbody>\n",
              "</table>\n",
              "</div>"
            ],
            "text/plain": [
              "                                            headline  \\\n",
              "0            Stocks That Hit 52-Week Highs On Friday   \n",
              "1         Stocks That Hit 52-Week Highs On Wednesday   \n",
              "2                      71 Biggest Movers From Friday   \n",
              "3       46 Stocks Moving In Friday's Mid-Day Session   \n",
              "4  B of A Securities Maintains Neutral on Agilent...   \n",
              "\n",
              "                       date stock  sentiment  \n",
              "0 2020-06-05 14:30:54+00:00     A        0.0  \n",
              "1 2020-06-03 14:45:20+00:00     A        0.0  \n",
              "2 2020-05-26 08:30:07+00:00     A        0.0  \n",
              "3 2020-05-22 16:45:06+00:00     A        0.0  \n",
              "4 2020-05-22 15:38:59+00:00     A        0.0  "
            ]
          },
          "execution_count": 9,
          "metadata": {},
          "output_type": "execute_result"
        }
      ],
      "source": [
        "df_filter = sentiment_data[['headline', 'date', 'stock', 'sentiment']].copy()\n",
        "df_filter.head()"
      ]
    },
    {
      "cell_type": "code",
      "execution_count": 10,
      "metadata": {},
      "outputs": [
        {
          "data": {
            "text/html": [
              "<div>\n",
              "<style scoped>\n",
              "    .dataframe tbody tr th:only-of-type {\n",
              "        vertical-align: middle;\n",
              "    }\n",
              "\n",
              "    .dataframe tbody tr th {\n",
              "        vertical-align: top;\n",
              "    }\n",
              "\n",
              "    .dataframe thead th {\n",
              "        text-align: right;\n",
              "    }\n",
              "</style>\n",
              "<table border=\"1\" class=\"dataframe\">\n",
              "  <thead>\n",
              "    <tr style=\"text-align: right;\">\n",
              "      <th></th>\n",
              "      <th>headline</th>\n",
              "      <th>stock</th>\n",
              "      <th>sentiment</th>\n",
              "      <th>Date</th>\n",
              "    </tr>\n",
              "  </thead>\n",
              "  <tbody>\n",
              "    <tr>\n",
              "      <th>0</th>\n",
              "      <td>Stocks That Hit 52-Week Highs On Friday</td>\n",
              "      <td>A</td>\n",
              "      <td>0.0</td>\n",
              "      <td>2020-06-05</td>\n",
              "    </tr>\n",
              "    <tr>\n",
              "      <th>1</th>\n",
              "      <td>Stocks That Hit 52-Week Highs On Wednesday</td>\n",
              "      <td>A</td>\n",
              "      <td>0.0</td>\n",
              "      <td>2020-06-03</td>\n",
              "    </tr>\n",
              "    <tr>\n",
              "      <th>2</th>\n",
              "      <td>71 Biggest Movers From Friday</td>\n",
              "      <td>A</td>\n",
              "      <td>0.0</td>\n",
              "      <td>2020-05-26</td>\n",
              "    </tr>\n",
              "    <tr>\n",
              "      <th>3</th>\n",
              "      <td>46 Stocks Moving In Friday's Mid-Day Session</td>\n",
              "      <td>A</td>\n",
              "      <td>0.0</td>\n",
              "      <td>2020-05-22</td>\n",
              "    </tr>\n",
              "    <tr>\n",
              "      <th>4</th>\n",
              "      <td>B of A Securities Maintains Neutral on Agilent...</td>\n",
              "      <td>A</td>\n",
              "      <td>0.0</td>\n",
              "      <td>2020-05-22</td>\n",
              "    </tr>\n",
              "  </tbody>\n",
              "</table>\n",
              "</div>"
            ],
            "text/plain": [
              "                                            headline stock  sentiment  \\\n",
              "0            Stocks That Hit 52-Week Highs On Friday     A        0.0   \n",
              "1         Stocks That Hit 52-Week Highs On Wednesday     A        0.0   \n",
              "2                      71 Biggest Movers From Friday     A        0.0   \n",
              "3       46 Stocks Moving In Friday's Mid-Day Session     A        0.0   \n",
              "4  B of A Securities Maintains Neutral on Agilent...     A        0.0   \n",
              "\n",
              "         Date  \n",
              "0  2020-06-05  \n",
              "1  2020-06-03  \n",
              "2  2020-05-26  \n",
              "3  2020-05-22  \n",
              "4  2020-05-22  "
            ]
          },
          "execution_count": 10,
          "metadata": {},
          "output_type": "execute_result"
        }
      ],
      "source": [
        "df_filter['Date'] = df_filter['date'].dt.date\n",
        "df_filter = df_filter.drop(columns=['date'])\n",
        "df_filter.head()"
      ]
    },
    {
      "cell_type": "code",
      "execution_count": 11,
      "metadata": {},
      "outputs": [
        {
          "name": "stdout",
          "output_type": "stream",
          "text": [
            "(1407328, 4)\n"
          ]
        },
        {
          "data": {
            "text/html": [
              "<div>\n",
              "<style scoped>\n",
              "    .dataframe tbody tr th:only-of-type {\n",
              "        vertical-align: middle;\n",
              "    }\n",
              "\n",
              "    .dataframe tbody tr th {\n",
              "        vertical-align: top;\n",
              "    }\n",
              "\n",
              "    .dataframe thead th {\n",
              "        text-align: right;\n",
              "    }\n",
              "</style>\n",
              "<table border=\"1\" class=\"dataframe\">\n",
              "  <thead>\n",
              "    <tr style=\"text-align: right;\">\n",
              "      <th></th>\n",
              "      <th>headline</th>\n",
              "      <th>stock</th>\n",
              "      <th>sentiment</th>\n",
              "      <th>Date</th>\n",
              "    </tr>\n",
              "  </thead>\n",
              "  <tbody>\n",
              "    <tr>\n",
              "      <th>1432</th>\n",
              "      <td>Going Against the Herd</td>\n",
              "      <td>A</td>\n",
              "      <td>0.0</td>\n",
              "      <td>2009-04-29</td>\n",
              "    </tr>\n",
              "    <tr>\n",
              "      <th>1431</th>\n",
              "      <td>super-trades - Two 52 week highs and others ab...</td>\n",
              "      <td>A</td>\n",
              "      <td>0.0</td>\n",
              "      <td>2009-06-01</td>\n",
              "    </tr>\n",
              "    <tr>\n",
              "      <th>1430</th>\n",
              "      <td>Skystar Bio-Pharmaceutical Announces Expansion...</td>\n",
              "      <td>A</td>\n",
              "      <td>0.0</td>\n",
              "      <td>2009-07-14</td>\n",
              "    </tr>\n",
              "    <tr>\n",
              "      <th>1429</th>\n",
              "      <td>The Gold/Silver Ratio From 1300 to 1900...And Now</td>\n",
              "      <td>A</td>\n",
              "      <td>0.0</td>\n",
              "      <td>2009-07-30</td>\n",
              "    </tr>\n",
              "    <tr>\n",
              "      <th>1428</th>\n",
              "      <td>A Simulation of China's 2,$$$,$$$,$$$,$$$ Dive...</td>\n",
              "      <td>A</td>\n",
              "      <td>0.0</td>\n",
              "      <td>2009-08-04</td>\n",
              "    </tr>\n",
              "  </tbody>\n",
              "</table>\n",
              "</div>"
            ],
            "text/plain": [
              "                                               headline stock  sentiment  \\\n",
              "1432                             Going Against the Herd     A        0.0   \n",
              "1431  super-trades - Two 52 week highs and others ab...     A        0.0   \n",
              "1430  Skystar Bio-Pharmaceutical Announces Expansion...     A        0.0   \n",
              "1429  The Gold/Silver Ratio From 1300 to 1900...And Now     A        0.0   \n",
              "1428  A Simulation of China's 2,$$$,$$$,$$$,$$$ Dive...     A        0.0   \n",
              "\n",
              "            Date  \n",
              "1432  2009-04-29  \n",
              "1431  2009-06-01  \n",
              "1430  2009-07-14  \n",
              "1429  2009-07-30  \n",
              "1428  2009-08-04  "
            ]
          },
          "execution_count": 11,
          "metadata": {},
          "output_type": "execute_result"
        }
      ],
      "source": [
        "df_sorted = df_filter.sort_values(by=['stock', 'Date'])\n",
        "print(df_sorted.shape)\n",
        "df_sorted.head()"
      ]
    },
    {
      "cell_type": "code",
      "execution_count": 12,
      "metadata": {},
      "outputs": [],
      "source": [
        "stocks_to_keep = ['GOOG', 'MSFT', 'AAPL', 'AMZN', 'META', 'TSLA', 'NVDA' ]\n",
        "filtered_df = df_sorted[df_sorted['stock'].isin(stocks_to_keep)]\n"
      ]
    },
    {
      "cell_type": "code",
      "execution_count": 13,
      "metadata": {},
      "outputs": [
        {
          "data": {
            "text/html": [
              "<div>\n",
              "<style scoped>\n",
              "    .dataframe tbody tr th:only-of-type {\n",
              "        vertical-align: middle;\n",
              "    }\n",
              "\n",
              "    .dataframe tbody tr th {\n",
              "        vertical-align: top;\n",
              "    }\n",
              "\n",
              "    .dataframe thead th {\n",
              "        text-align: right;\n",
              "    }\n",
              "</style>\n",
              "<table border=\"1\" class=\"dataframe\">\n",
              "  <thead>\n",
              "    <tr style=\"text-align: right;\">\n",
              "      <th></th>\n",
              "      <th>headline</th>\n",
              "      <th>stock</th>\n",
              "      <th>sentiment</th>\n",
              "      <th>Date</th>\n",
              "    </tr>\n",
              "  </thead>\n",
              "  <tbody>\n",
              "    <tr>\n",
              "      <th>1255226</th>\n",
              "      <td>Tesla Shares Mark Session And New All-Time Hig...</td>\n",
              "      <td>TSLA</td>\n",
              "      <td>0.148182</td>\n",
              "      <td>2020-06-10</td>\n",
              "    </tr>\n",
              "    <tr>\n",
              "      <th>1255227</th>\n",
              "      <td>Wedbush Says Tesla Has 'Game Changing' Develop...</td>\n",
              "      <td>TSLA</td>\n",
              "      <td>-0.400000</td>\n",
              "      <td>2020-06-10</td>\n",
              "    </tr>\n",
              "    <tr>\n",
              "      <th>1255228</th>\n",
              "      <td>Wedbush Maintains Neutral on Tesla, Raises Pri...</td>\n",
              "      <td>TSLA</td>\n",
              "      <td>0.000000</td>\n",
              "      <td>2020-06-10</td>\n",
              "    </tr>\n",
              "    <tr>\n",
              "      <th>1255229</th>\n",
              "      <td>Musk Says It's Time To Ramp Production Of Tesl...</td>\n",
              "      <td>TSLA</td>\n",
              "      <td>0.000000</td>\n",
              "      <td>2020-06-10</td>\n",
              "    </tr>\n",
              "    <tr>\n",
              "      <th>1255230</th>\n",
              "      <td>Tesla shares are trading higher after Wedbush ...</td>\n",
              "      <td>TSLA</td>\n",
              "      <td>0.250000</td>\n",
              "      <td>2020-06-10</td>\n",
              "    </tr>\n",
              "  </tbody>\n",
              "</table>\n",
              "</div>"
            ],
            "text/plain": [
              "                                                  headline stock  sentiment  \\\n",
              "1255226  Tesla Shares Mark Session And New All-Time Hig...  TSLA   0.148182   \n",
              "1255227  Wedbush Says Tesla Has 'Game Changing' Develop...  TSLA  -0.400000   \n",
              "1255228  Wedbush Maintains Neutral on Tesla, Raises Pri...  TSLA   0.000000   \n",
              "1255229  Musk Says It's Time To Ramp Production Of Tesl...  TSLA   0.000000   \n",
              "1255230  Tesla shares are trading higher after Wedbush ...  TSLA   0.250000   \n",
              "\n",
              "               Date  \n",
              "1255226  2020-06-10  \n",
              "1255227  2020-06-10  \n",
              "1255228  2020-06-10  \n",
              "1255229  2020-06-10  \n",
              "1255230  2020-06-10  "
            ]
          },
          "execution_count": 13,
          "metadata": {},
          "output_type": "execute_result"
        }
      ],
      "source": [
        "filtered_df.tail()"
      ]
    },
    {
      "cell_type": "code",
      "execution_count": 15,
      "metadata": {},
      "outputs": [
        {
          "name": "stdout",
          "output_type": "stream",
          "text": [
            "(1975, 3)\n"
          ]
        }
      ],
      "source": [
        "average_sentiment = filtered_df.groupby(['Date', 'stock'])['sentiment'].mean().reset_index()\n",
        "sorted_df = average_sentiment.sort_values(by=['stock', 'Date'])\n",
        "print(sorted_df.shape)\n"
      ]
    },
    {
      "cell_type": "code",
      "execution_count": 16,
      "metadata": {},
      "outputs": [
        {
          "data": {
            "text/html": [
              "<div>\n",
              "<style scoped>\n",
              "    .dataframe tbody tr th:only-of-type {\n",
              "        vertical-align: middle;\n",
              "    }\n",
              "\n",
              "    .dataframe tbody tr th {\n",
              "        vertical-align: top;\n",
              "    }\n",
              "\n",
              "    .dataframe thead th {\n",
              "        text-align: right;\n",
              "    }\n",
              "</style>\n",
              "<table border=\"1\" class=\"dataframe\">\n",
              "  <thead>\n",
              "    <tr style=\"text-align: right;\">\n",
              "      <th></th>\n",
              "      <th>Date</th>\n",
              "      <th>stock</th>\n",
              "      <th>sentiment</th>\n",
              "    </tr>\n",
              "  </thead>\n",
              "  <tbody>\n",
              "    <tr>\n",
              "      <th>1948</th>\n",
              "      <td>2020-05-30</td>\n",
              "      <td>TSLA</td>\n",
              "      <td>0.083333</td>\n",
              "    </tr>\n",
              "    <tr>\n",
              "      <th>1952</th>\n",
              "      <td>2020-05-31</td>\n",
              "      <td>TSLA</td>\n",
              "      <td>0.000000</td>\n",
              "    </tr>\n",
              "    <tr>\n",
              "      <th>1956</th>\n",
              "      <td>2020-06-01</td>\n",
              "      <td>TSLA</td>\n",
              "      <td>0.077917</td>\n",
              "    </tr>\n",
              "    <tr>\n",
              "      <th>1961</th>\n",
              "      <td>2020-06-02</td>\n",
              "      <td>TSLA</td>\n",
              "      <td>0.161147</td>\n",
              "    </tr>\n",
              "    <tr>\n",
              "      <th>1974</th>\n",
              "      <td>2020-06-10</td>\n",
              "      <td>TSLA</td>\n",
              "      <td>0.037515</td>\n",
              "    </tr>\n",
              "  </tbody>\n",
              "</table>\n",
              "</div>"
            ],
            "text/plain": [
              "            Date stock  sentiment\n",
              "1948  2020-05-30  TSLA   0.083333\n",
              "1952  2020-05-31  TSLA   0.000000\n",
              "1956  2020-06-01  TSLA   0.077917\n",
              "1961  2020-06-02  TSLA   0.161147\n",
              "1974  2020-06-10  TSLA   0.037515"
            ]
          },
          "execution_count": 16,
          "metadata": {},
          "output_type": "execute_result"
        }
      ],
      "source": [
        "sorted_df.tail()"
      ]
    },
    {
      "cell_type": "code",
      "execution_count": 56,
      "metadata": {},
      "outputs": [],
      "source": [
        "sorted_df.to_csv('average_sentiment.csv', index=False)"
      ]
    }
  ],
  "metadata": {
    "colab": {
      "collapsed_sections": [
        "Hq_6W0LKmpZc"
      ],
      "provenance": []
    },
    "kernelspec": {
      "display_name": "Python 3 (ipykernel)",
      "language": "python",
      "name": "python3"
    },
    "language_info": {
      "codemirror_mode": {
        "name": "ipython",
        "version": 3
      },
      "file_extension": ".py",
      "mimetype": "text/x-python",
      "name": "python",
      "nbconvert_exporter": "python",
      "pygments_lexer": "ipython3",
      "version": "3.12.5"
    }
  },
  "nbformat": 4,
  "nbformat_minor": 0
}
